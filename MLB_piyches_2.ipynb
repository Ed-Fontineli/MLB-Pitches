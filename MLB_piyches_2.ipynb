{
 "cells": [
  {
   "cell_type": "markdown",
   "id": "c1021964",
   "metadata": {
    "papermill": {
     "duration": 0.008201,
     "end_time": "2024-01-23T00:19:01.797560",
     "exception": false,
     "start_time": "2024-01-23T00:19:01.789359",
     "status": "completed"
    },
    "tags": []
   },
   "source": [
    "# Colaeta dos Dados \n",
    "\n",
    "Os dados utilizados foram retirados de uma base de dados do Kaggle, que pode ser encontrada neste link: https://www.kaggle.com/datasets/pschale/mlb-pitch-data-20152018/data. Ela se Chama MLB Pitch data 2015-2019, e contém os dados de todos os arremessos dessas 5 Temporadas. Dentro da base de dados existiam mais dados acerca de rebatidas porém foi utilizado somente o dos arremessos"
   ]
  },
  {
   "cell_type": "markdown",
   "id": "c916fd29",
   "metadata": {
    "papermill": {
     "duration": 0.007324,
     "end_time": "2024-01-23T00:19:01.812416",
     "exception": false,
     "start_time": "2024-01-23T00:19:01.805092",
     "status": "completed"
    },
    "tags": []
   },
   "source": [
    "# Sobre os dados\n",
    "|Campo|Descrição|\n",
    "|:-|:-|\n",
    "|px| Posiçao da bola no eixo x em relação ao homeplate |\n",
    "|pz| Posiçao da bola no eixo y em relação ao homeplate |\n",
    "|start_speed| Velocidade inicial|\n",
    "|end_speed| Velocidade final|\n",
    "|spin_rate| Rotações por minuto da bola|\n",
    "|spin_dir| Direçao da Rotação da bola|\n",
    "|break_angle| Ângulo da quebra da bola|\n",
    "|break-lenght| Comprimento da quebra|\n",
    "|break_y| Quebra no eixo y|\n",
    "|ax| Aceleração do arremesso no eixo x|\n",
    "|ay| Aceleração do arremesso no eixo y|\n",
    "|az| Aceleração do arremesso no eixo z|\n",
    "|sz_top| Distância entre o chão e o topo da zona de strike do rebatedor |\n",
    "|sz_bot| Distância entre o chão e o final da zona de strike do rebatedor |\n",
    "|type_confidenca| O peso no nó de saída do algoritmo de classificação correspondente ao tipo de pitch mais provável |\n",
    "|vx0| Velocidade inicial do arremesso no eixo x |\n",
    "|vy0| Velocidade inicial do arremesso no eixo y |\n",
    "|vz0| Velocidade inicial do arremesso no eixo z |\n",
    "|x| A localização horizontal do arremesso ao cruzar a home plate |\n",
    "|x0| A localizacão horizontal inicial do arremesso |\n",
    "|y| A localização vertical do arremesso ao cruzar a home plate |\n",
    "|y0| a distância em pés da base onde o sistema PITCHf/x está configurado para medir os parâmetros iniciais. |\n",
    "|z0| A altura inicial do arremesso|\n",
    "|pfx_x|O movimento horizontal do arremesso entre o ponto inicial e a homeplate |\n",
    "|pfx_z|O movimento vertical do arremesso entre o ponto inicial e a homeplate |\n",
    "|nasty|Sem informação exata |\n",
    "|zone| Se foi ou não dentro da zona de strike\n",
    "|code| Ação da jogada |\n",
    "|type| Ação da jogada|\n",
    "|pitch_type| Tipo de Arremesso |\n",
    "|event_num| Número de eventos |\n",
    "|b_score| Número de caminhadas\n",
    "|ab_id| Id do Rebatedor |\n",
    "|b_count| Contagem de bolas|\n",
    "|s_count| Contagem de strikes|\n",
    "|outs| Contagem de foras|\n",
    "|pitch_num| Número de arremessos|\n",
    "|on_1b| Se chegou na primeira base|\n",
    "|on_2b|Se chegou na segunda base|\n",
    "|on_3b|Se chegou na terceira base|"
   ]
  },
  {
   "cell_type": "markdown",
   "id": "5c2535d1",
   "metadata": {
    "papermill": {
     "duration": 0.007188,
     "end_time": "2024-01-23T00:19:01.827145",
     "exception": false,
     "start_time": "2024-01-23T00:19:01.819957",
     "status": "completed"
    },
    "tags": []
   },
   "source": [
    "**OBJETIVO:** Os Arremessos são um dos pontos centrais no baseball, o objetivo deste material é utilizar destes dados e realizar uma regressão, de uma forma a compreender como esses dados podem ajudar a entender o que mais ajuda a conseguir um strike, que é a variável resposta"
   ]
  },
  {
   "cell_type": "code",
   "execution_count": null,
   "id": "a5fb8d29",
   "metadata": {
    "papermill": {
     "duration": 0.00722,
     "end_time": "2024-01-23T00:19:01.841798",
     "exception": false,
     "start_time": "2024-01-23T00:19:01.834578",
     "status": "completed"
    },
    "tags": []
   },
   "outputs": [],
   "source": []
  },
  {
   "cell_type": "code",
   "execution_count": 1,
   "id": "138fc440",
   "metadata": {
    "execution": {
     "iopub.execute_input": "2024-01-23T00:19:01.858273Z",
     "iopub.status.busy": "2024-01-23T00:19:01.857943Z",
     "iopub.status.idle": "2024-01-23T00:19:02.163647Z",
     "shell.execute_reply": "2024-01-23T00:19:02.162953Z"
    },
    "papermill": {
     "duration": 0.316523,
     "end_time": "2024-01-23T00:19:02.165702",
     "exception": false,
     "start_time": "2024-01-23T00:19:01.849179",
     "status": "completed"
    },
    "tags": []
   },
   "outputs": [],
   "source": [
    "import pandas as pd"
   ]
  },
  {
   "cell_type": "code",
   "execution_count": 2,
   "id": "28c0edb3",
   "metadata": {
    "execution": {
     "iopub.execute_input": "2024-01-23T00:19:02.183717Z",
     "iopub.status.busy": "2024-01-23T00:19:02.183047Z",
     "iopub.status.idle": "2024-01-23T00:19:18.555037Z",
     "shell.execute_reply": "2024-01-23T00:19:18.553890Z"
    },
    "papermill": {
     "duration": 16.383201,
     "end_time": "2024-01-23T00:19:18.557462",
     "exception": false,
     "start_time": "2024-01-23T00:19:02.174261",
     "status": "completed"
    },
    "tags": []
   },
   "outputs": [],
   "source": [
    "#Carregando a base de dados\n",
    "df_pitches = pd.read_csv('../input/mlb-pitch-data-20152018/pitches.csv')"
   ]
  },
  {
   "cell_type": "code",
   "execution_count": 3,
   "id": "cf3a7fd0",
   "metadata": {
    "execution": {
     "iopub.execute_input": "2024-01-23T00:19:18.577903Z",
     "iopub.status.busy": "2024-01-23T00:19:18.577480Z",
     "iopub.status.idle": "2024-01-23T00:19:18.616920Z",
     "shell.execute_reply": "2024-01-23T00:19:18.615892Z"
    },
    "papermill": {
     "duration": 0.051892,
     "end_time": "2024-01-23T00:19:18.618858",
     "exception": false,
     "start_time": "2024-01-23T00:19:18.566966",
     "status": "completed"
    },
    "tags": []
   },
   "outputs": [
    {
     "data": {
      "text/html": [
       "<div>\n",
       "<style scoped>\n",
       "    .dataframe tbody tr th:only-of-type {\n",
       "        vertical-align: middle;\n",
       "    }\n",
       "\n",
       "    .dataframe tbody tr th {\n",
       "        vertical-align: top;\n",
       "    }\n",
       "\n",
       "    .dataframe thead th {\n",
       "        text-align: right;\n",
       "    }\n",
       "</style>\n",
       "<table border=\"1\" class=\"dataframe\">\n",
       "  <thead>\n",
       "    <tr style=\"text-align: right;\">\n",
       "      <th></th>\n",
       "      <th>px</th>\n",
       "      <th>pz</th>\n",
       "      <th>start_speed</th>\n",
       "      <th>end_speed</th>\n",
       "      <th>spin_rate</th>\n",
       "      <th>spin_dir</th>\n",
       "      <th>break_angle</th>\n",
       "      <th>break_length</th>\n",
       "      <th>break_y</th>\n",
       "      <th>ax</th>\n",
       "      <th>...</th>\n",
       "      <th>event_num</th>\n",
       "      <th>b_score</th>\n",
       "      <th>ab_id</th>\n",
       "      <th>b_count</th>\n",
       "      <th>s_count</th>\n",
       "      <th>outs</th>\n",
       "      <th>pitch_num</th>\n",
       "      <th>on_1b</th>\n",
       "      <th>on_2b</th>\n",
       "      <th>on_3b</th>\n",
       "    </tr>\n",
       "  </thead>\n",
       "  <tbody>\n",
       "    <tr>\n",
       "      <th>0</th>\n",
       "      <td>0.416</td>\n",
       "      <td>2.963</td>\n",
       "      <td>92.9</td>\n",
       "      <td>84.1</td>\n",
       "      <td>2305.052</td>\n",
       "      <td>159.235</td>\n",
       "      <td>-25.0</td>\n",
       "      <td>3.2</td>\n",
       "      <td>23.7</td>\n",
       "      <td>7.665</td>\n",
       "      <td>...</td>\n",
       "      <td>3</td>\n",
       "      <td>0.0</td>\n",
       "      <td>2.015000e+09</td>\n",
       "      <td>0.0</td>\n",
       "      <td>0.0</td>\n",
       "      <td>0.0</td>\n",
       "      <td>1.0</td>\n",
       "      <td>0.0</td>\n",
       "      <td>0.0</td>\n",
       "      <td>0.0</td>\n",
       "    </tr>\n",
       "    <tr>\n",
       "      <th>1</th>\n",
       "      <td>-0.191</td>\n",
       "      <td>2.347</td>\n",
       "      <td>92.8</td>\n",
       "      <td>84.1</td>\n",
       "      <td>2689.935</td>\n",
       "      <td>151.402</td>\n",
       "      <td>-40.7</td>\n",
       "      <td>3.4</td>\n",
       "      <td>23.7</td>\n",
       "      <td>12.043</td>\n",
       "      <td>...</td>\n",
       "      <td>4</td>\n",
       "      <td>0.0</td>\n",
       "      <td>2.015000e+09</td>\n",
       "      <td>0.0</td>\n",
       "      <td>1.0</td>\n",
       "      <td>0.0</td>\n",
       "      <td>2.0</td>\n",
       "      <td>0.0</td>\n",
       "      <td>0.0</td>\n",
       "      <td>0.0</td>\n",
       "    </tr>\n",
       "    <tr>\n",
       "      <th>2</th>\n",
       "      <td>-0.518</td>\n",
       "      <td>3.284</td>\n",
       "      <td>94.1</td>\n",
       "      <td>85.2</td>\n",
       "      <td>2647.972</td>\n",
       "      <td>145.125</td>\n",
       "      <td>-43.7</td>\n",
       "      <td>3.7</td>\n",
       "      <td>23.7</td>\n",
       "      <td>14.368</td>\n",
       "      <td>...</td>\n",
       "      <td>5</td>\n",
       "      <td>0.0</td>\n",
       "      <td>2.015000e+09</td>\n",
       "      <td>0.0</td>\n",
       "      <td>2.0</td>\n",
       "      <td>0.0</td>\n",
       "      <td>3.0</td>\n",
       "      <td>0.0</td>\n",
       "      <td>0.0</td>\n",
       "      <td>0.0</td>\n",
       "    </tr>\n",
       "    <tr>\n",
       "      <th>3</th>\n",
       "      <td>-0.641</td>\n",
       "      <td>1.221</td>\n",
       "      <td>91.0</td>\n",
       "      <td>84.0</td>\n",
       "      <td>1289.590</td>\n",
       "      <td>169.751</td>\n",
       "      <td>-1.3</td>\n",
       "      <td>5.0</td>\n",
       "      <td>23.8</td>\n",
       "      <td>2.104</td>\n",
       "      <td>...</td>\n",
       "      <td>6</td>\n",
       "      <td>0.0</td>\n",
       "      <td>2.015000e+09</td>\n",
       "      <td>0.0</td>\n",
       "      <td>2.0</td>\n",
       "      <td>0.0</td>\n",
       "      <td>4.0</td>\n",
       "      <td>0.0</td>\n",
       "      <td>0.0</td>\n",
       "      <td>0.0</td>\n",
       "    </tr>\n",
       "    <tr>\n",
       "      <th>4</th>\n",
       "      <td>-1.821</td>\n",
       "      <td>2.083</td>\n",
       "      <td>75.4</td>\n",
       "      <td>69.6</td>\n",
       "      <td>1374.569</td>\n",
       "      <td>280.671</td>\n",
       "      <td>18.4</td>\n",
       "      <td>12.0</td>\n",
       "      <td>23.8</td>\n",
       "      <td>-10.280</td>\n",
       "      <td>...</td>\n",
       "      <td>7</td>\n",
       "      <td>0.0</td>\n",
       "      <td>2.015000e+09</td>\n",
       "      <td>1.0</td>\n",
       "      <td>2.0</td>\n",
       "      <td>0.0</td>\n",
       "      <td>5.0</td>\n",
       "      <td>0.0</td>\n",
       "      <td>0.0</td>\n",
       "      <td>0.0</td>\n",
       "    </tr>\n",
       "  </tbody>\n",
       "</table>\n",
       "<p>5 rows × 40 columns</p>\n",
       "</div>"
      ],
      "text/plain": [
       "      px     pz  start_speed  end_speed  spin_rate  spin_dir  break_angle  \\\n",
       "0  0.416  2.963         92.9       84.1   2305.052   159.235        -25.0   \n",
       "1 -0.191  2.347         92.8       84.1   2689.935   151.402        -40.7   \n",
       "2 -0.518  3.284         94.1       85.2   2647.972   145.125        -43.7   \n",
       "3 -0.641  1.221         91.0       84.0   1289.590   169.751         -1.3   \n",
       "4 -1.821  2.083         75.4       69.6   1374.569   280.671         18.4   \n",
       "\n",
       "   break_length  break_y      ax  ...  event_num  b_score         ab_id  \\\n",
       "0           3.2     23.7   7.665  ...          3      0.0  2.015000e+09   \n",
       "1           3.4     23.7  12.043  ...          4      0.0  2.015000e+09   \n",
       "2           3.7     23.7  14.368  ...          5      0.0  2.015000e+09   \n",
       "3           5.0     23.8   2.104  ...          6      0.0  2.015000e+09   \n",
       "4          12.0     23.8 -10.280  ...          7      0.0  2.015000e+09   \n",
       "\n",
       "   b_count  s_count  outs  pitch_num  on_1b  on_2b  on_3b  \n",
       "0      0.0      0.0   0.0        1.0    0.0    0.0    0.0  \n",
       "1      0.0      1.0   0.0        2.0    0.0    0.0    0.0  \n",
       "2      0.0      2.0   0.0        3.0    0.0    0.0    0.0  \n",
       "3      0.0      2.0   0.0        4.0    0.0    0.0    0.0  \n",
       "4      1.0      2.0   0.0        5.0    0.0    0.0    0.0  \n",
       "\n",
       "[5 rows x 40 columns]"
      ]
     },
     "execution_count": 3,
     "metadata": {},
     "output_type": "execute_result"
    }
   ],
   "source": [
    "df_pitches.head()"
   ]
  },
  {
   "cell_type": "code",
   "execution_count": 4,
   "id": "1744ca4b",
   "metadata": {
    "execution": {
     "iopub.execute_input": "2024-01-23T00:19:18.636381Z",
     "iopub.status.busy": "2024-01-23T00:19:18.636015Z",
     "iopub.status.idle": "2024-01-23T00:19:18.644184Z",
     "shell.execute_reply": "2024-01-23T00:19:18.643304Z"
    },
    "papermill": {
     "duration": 0.018843,
     "end_time": "2024-01-23T00:19:18.645754",
     "exception": false,
     "start_time": "2024-01-23T00:19:18.626911",
     "status": "completed"
    },
    "tags": []
   },
   "outputs": [
    {
     "data": {
      "text/plain": [
       "px                 float64\n",
       "pz                 float64\n",
       "start_speed        float64\n",
       "end_speed          float64\n",
       "spin_rate          float64\n",
       "spin_dir           float64\n",
       "break_angle        float64\n",
       "break_length       float64\n",
       "break_y            float64\n",
       "ax                 float64\n",
       "ay                 float64\n",
       "az                 float64\n",
       "sz_bot             float64\n",
       "sz_top             float64\n",
       "type_confidence    float64\n",
       "vx0                float64\n",
       "vy0                float64\n",
       "vz0                float64\n",
       "x                  float64\n",
       "x0                 float64\n",
       "y                  float64\n",
       "y0                 float64\n",
       "z0                 float64\n",
       "pfx_x              float64\n",
       "pfx_z              float64\n",
       "nasty              float64\n",
       "zone               float64\n",
       "code                object\n",
       "type                object\n",
       "pitch_type          object\n",
       "event_num            int64\n",
       "b_score            float64\n",
       "ab_id              float64\n",
       "b_count            float64\n",
       "s_count            float64\n",
       "outs               float64\n",
       "pitch_num          float64\n",
       "on_1b              float64\n",
       "on_2b              float64\n",
       "on_3b              float64\n",
       "dtype: object"
      ]
     },
     "execution_count": 4,
     "metadata": {},
     "output_type": "execute_result"
    }
   ],
   "source": [
    "df_pitches.dtypes"
   ]
  },
  {
   "cell_type": "code",
   "execution_count": 5,
   "id": "7e67a7fe",
   "metadata": {
    "execution": {
     "iopub.execute_input": "2024-01-23T00:19:18.662618Z",
     "iopub.status.busy": "2024-01-23T00:19:18.662304Z",
     "iopub.status.idle": "2024-01-23T00:19:18.666751Z",
     "shell.execute_reply": "2024-01-23T00:19:18.665966Z"
    },
    "papermill": {
     "duration": 0.014642,
     "end_time": "2024-01-23T00:19:18.668310",
     "exception": false,
     "start_time": "2024-01-23T00:19:18.653668",
     "status": "completed"
    },
    "tags": []
   },
   "outputs": [],
   "source": [
    "#Selecionando as variáveis\n",
    "variaveis = [['px', 'pz', 'start_speed', 'end_speed', 'spin_rate', 'spin_dir', 'break_angle', 'break_lenght', 'break_y',\n",
    "             'zone', 'pitch_type', 'b_count', 's_count', 'outs', 'pitch_num', 'on_1b', 'on_2b', 'on_3b']]"
   ]
  },
  {
   "cell_type": "code",
   "execution_count": 6,
   "id": "21d2af4c",
   "metadata": {
    "execution": {
     "iopub.execute_input": "2024-01-23T00:19:18.684853Z",
     "iopub.status.busy": "2024-01-23T00:19:18.684591Z",
     "iopub.status.idle": "2024-01-23T00:19:18.776733Z",
     "shell.execute_reply": "2024-01-23T00:19:18.775340Z"
    },
    "papermill": {
     "duration": 0.10279,
     "end_time": "2024-01-23T00:19:18.778809",
     "exception": false,
     "start_time": "2024-01-23T00:19:18.676019",
     "status": "completed"
    },
    "tags": []
   },
   "outputs": [],
   "source": [
    "df_pitches1 = df_pitches[['px', 'pz', 'start_speed', 'end_speed', 'spin_rate', 'spin_dir', 'break_angle', 'break_length', 'break_y',\n",
    "             'zone', 'pitch_type', 'b_count', 's_count', 'outs', 'pitch_num', 'on_1b', 'on_2b', 'on_3b', 'ab_id']]"
   ]
  },
  {
   "cell_type": "code",
   "execution_count": 7,
   "id": "88d02d2e",
   "metadata": {
    "execution": {
     "iopub.execute_input": "2024-01-23T00:19:18.795904Z",
     "iopub.status.busy": "2024-01-23T00:19:18.795603Z",
     "iopub.status.idle": "2024-01-23T00:19:18.816941Z",
     "shell.execute_reply": "2024-01-23T00:19:18.816041Z"
    },
    "papermill": {
     "duration": 0.031772,
     "end_time": "2024-01-23T00:19:18.818637",
     "exception": false,
     "start_time": "2024-01-23T00:19:18.786865",
     "status": "completed"
    },
    "scrolled": true,
    "tags": []
   },
   "outputs": [
    {
     "data": {
      "text/html": [
       "<div>\n",
       "<style scoped>\n",
       "    .dataframe tbody tr th:only-of-type {\n",
       "        vertical-align: middle;\n",
       "    }\n",
       "\n",
       "    .dataframe tbody tr th {\n",
       "        vertical-align: top;\n",
       "    }\n",
       "\n",
       "    .dataframe thead th {\n",
       "        text-align: right;\n",
       "    }\n",
       "</style>\n",
       "<table border=\"1\" class=\"dataframe\">\n",
       "  <thead>\n",
       "    <tr style=\"text-align: right;\">\n",
       "      <th></th>\n",
       "      <th>px</th>\n",
       "      <th>pz</th>\n",
       "      <th>start_speed</th>\n",
       "      <th>end_speed</th>\n",
       "      <th>spin_rate</th>\n",
       "      <th>spin_dir</th>\n",
       "      <th>break_angle</th>\n",
       "      <th>break_length</th>\n",
       "      <th>break_y</th>\n",
       "      <th>zone</th>\n",
       "      <th>pitch_type</th>\n",
       "      <th>b_count</th>\n",
       "      <th>s_count</th>\n",
       "      <th>outs</th>\n",
       "      <th>pitch_num</th>\n",
       "      <th>on_1b</th>\n",
       "      <th>on_2b</th>\n",
       "      <th>on_3b</th>\n",
       "      <th>ab_id</th>\n",
       "    </tr>\n",
       "  </thead>\n",
       "  <tbody>\n",
       "    <tr>\n",
       "      <th>0</th>\n",
       "      <td>0.416</td>\n",
       "      <td>2.963</td>\n",
       "      <td>92.9</td>\n",
       "      <td>84.1</td>\n",
       "      <td>2305.052</td>\n",
       "      <td>159.235</td>\n",
       "      <td>-25.0</td>\n",
       "      <td>3.2</td>\n",
       "      <td>23.7</td>\n",
       "      <td>3.0</td>\n",
       "      <td>FF</td>\n",
       "      <td>0.0</td>\n",
       "      <td>0.0</td>\n",
       "      <td>0.0</td>\n",
       "      <td>1.0</td>\n",
       "      <td>0.0</td>\n",
       "      <td>0.0</td>\n",
       "      <td>0.0</td>\n",
       "      <td>2.015000e+09</td>\n",
       "    </tr>\n",
       "    <tr>\n",
       "      <th>1</th>\n",
       "      <td>-0.191</td>\n",
       "      <td>2.347</td>\n",
       "      <td>92.8</td>\n",
       "      <td>84.1</td>\n",
       "      <td>2689.935</td>\n",
       "      <td>151.402</td>\n",
       "      <td>-40.7</td>\n",
       "      <td>3.4</td>\n",
       "      <td>23.7</td>\n",
       "      <td>5.0</td>\n",
       "      <td>FF</td>\n",
       "      <td>0.0</td>\n",
       "      <td>1.0</td>\n",
       "      <td>0.0</td>\n",
       "      <td>2.0</td>\n",
       "      <td>0.0</td>\n",
       "      <td>0.0</td>\n",
       "      <td>0.0</td>\n",
       "      <td>2.015000e+09</td>\n",
       "    </tr>\n",
       "    <tr>\n",
       "      <th>2</th>\n",
       "      <td>-0.518</td>\n",
       "      <td>3.284</td>\n",
       "      <td>94.1</td>\n",
       "      <td>85.2</td>\n",
       "      <td>2647.972</td>\n",
       "      <td>145.125</td>\n",
       "      <td>-43.7</td>\n",
       "      <td>3.7</td>\n",
       "      <td>23.7</td>\n",
       "      <td>1.0</td>\n",
       "      <td>FF</td>\n",
       "      <td>0.0</td>\n",
       "      <td>2.0</td>\n",
       "      <td>0.0</td>\n",
       "      <td>3.0</td>\n",
       "      <td>0.0</td>\n",
       "      <td>0.0</td>\n",
       "      <td>0.0</td>\n",
       "      <td>2.015000e+09</td>\n",
       "    </tr>\n",
       "    <tr>\n",
       "      <th>3</th>\n",
       "      <td>-0.641</td>\n",
       "      <td>1.221</td>\n",
       "      <td>91.0</td>\n",
       "      <td>84.0</td>\n",
       "      <td>1289.590</td>\n",
       "      <td>169.751</td>\n",
       "      <td>-1.3</td>\n",
       "      <td>5.0</td>\n",
       "      <td>23.8</td>\n",
       "      <td>13.0</td>\n",
       "      <td>FF</td>\n",
       "      <td>0.0</td>\n",
       "      <td>2.0</td>\n",
       "      <td>0.0</td>\n",
       "      <td>4.0</td>\n",
       "      <td>0.0</td>\n",
       "      <td>0.0</td>\n",
       "      <td>0.0</td>\n",
       "      <td>2.015000e+09</td>\n",
       "    </tr>\n",
       "    <tr>\n",
       "      <th>4</th>\n",
       "      <td>-1.821</td>\n",
       "      <td>2.083</td>\n",
       "      <td>75.4</td>\n",
       "      <td>69.6</td>\n",
       "      <td>1374.569</td>\n",
       "      <td>280.671</td>\n",
       "      <td>18.4</td>\n",
       "      <td>12.0</td>\n",
       "      <td>23.8</td>\n",
       "      <td>13.0</td>\n",
       "      <td>CU</td>\n",
       "      <td>1.0</td>\n",
       "      <td>2.0</td>\n",
       "      <td>0.0</td>\n",
       "      <td>5.0</td>\n",
       "      <td>0.0</td>\n",
       "      <td>0.0</td>\n",
       "      <td>0.0</td>\n",
       "      <td>2.015000e+09</td>\n",
       "    </tr>\n",
       "  </tbody>\n",
       "</table>\n",
       "</div>"
      ],
      "text/plain": [
       "      px     pz  start_speed  end_speed  spin_rate  spin_dir  break_angle  \\\n",
       "0  0.416  2.963         92.9       84.1   2305.052   159.235        -25.0   \n",
       "1 -0.191  2.347         92.8       84.1   2689.935   151.402        -40.7   \n",
       "2 -0.518  3.284         94.1       85.2   2647.972   145.125        -43.7   \n",
       "3 -0.641  1.221         91.0       84.0   1289.590   169.751         -1.3   \n",
       "4 -1.821  2.083         75.4       69.6   1374.569   280.671         18.4   \n",
       "\n",
       "   break_length  break_y  zone pitch_type  b_count  s_count  outs  pitch_num  \\\n",
       "0           3.2     23.7   3.0         FF      0.0      0.0   0.0        1.0   \n",
       "1           3.4     23.7   5.0         FF      0.0      1.0   0.0        2.0   \n",
       "2           3.7     23.7   1.0         FF      0.0      2.0   0.0        3.0   \n",
       "3           5.0     23.8  13.0         FF      0.0      2.0   0.0        4.0   \n",
       "4          12.0     23.8  13.0         CU      1.0      2.0   0.0        5.0   \n",
       "\n",
       "   on_1b  on_2b  on_3b         ab_id  \n",
       "0    0.0    0.0    0.0  2.015000e+09  \n",
       "1    0.0    0.0    0.0  2.015000e+09  \n",
       "2    0.0    0.0    0.0  2.015000e+09  \n",
       "3    0.0    0.0    0.0  2.015000e+09  \n",
       "4    0.0    0.0    0.0  2.015000e+09  "
      ]
     },
     "execution_count": 7,
     "metadata": {},
     "output_type": "execute_result"
    }
   ],
   "source": [
    "df_pitches1.head()"
   ]
  },
  {
   "cell_type": "markdown",
   "id": "f26b8413",
   "metadata": {
    "papermill": {
     "duration": 0.007644,
     "end_time": "2024-01-23T00:19:18.834440",
     "exception": false,
     "start_time": "2024-01-23T00:19:18.826796",
     "status": "completed"
    },
    "tags": []
   },
   "source": [
    "# Limpando os dados"
   ]
  },
  {
   "cell_type": "code",
   "execution_count": 8,
   "id": "d81a7c8c",
   "metadata": {
    "execution": {
     "iopub.execute_input": "2024-01-23T00:19:18.851534Z",
     "iopub.status.busy": "2024-01-23T00:19:18.851204Z",
     "iopub.status.idle": "2024-01-23T00:19:18.974179Z",
     "shell.execute_reply": "2024-01-23T00:19:18.973297Z"
    },
    "papermill": {
     "duration": 0.133664,
     "end_time": "2024-01-23T00:19:18.975937",
     "exception": false,
     "start_time": "2024-01-23T00:19:18.842273",
     "status": "completed"
    },
    "tags": []
   },
   "outputs": [
    {
     "data": {
      "text/plain": [
       "px              14189\n",
       "pz              14189\n",
       "start_speed     14114\n",
       "end_speed       14114\n",
       "spin_rate       14189\n",
       "spin_dir        14189\n",
       "break_angle     14189\n",
       "break_length    14189\n",
       "break_y         14189\n",
       "zone            14189\n",
       "pitch_type      14189\n",
       "b_count             0\n",
       "s_count             0\n",
       "outs                0\n",
       "pitch_num           0\n",
       "on_1b               0\n",
       "on_2b               0\n",
       "on_3b               0\n",
       "ab_id               0\n",
       "dtype: int64"
      ]
     },
     "execution_count": 8,
     "metadata": {},
     "output_type": "execute_result"
    }
   ],
   "source": [
    "df_pitches1.isnull().sum()"
   ]
  },
  {
   "cell_type": "code",
   "execution_count": 9,
   "id": "74f903f1",
   "metadata": {
    "execution": {
     "iopub.execute_input": "2024-01-23T00:19:18.993180Z",
     "iopub.status.busy": "2024-01-23T00:19:18.992928Z",
     "iopub.status.idle": "2024-01-23T00:19:19.246150Z",
     "shell.execute_reply": "2024-01-23T00:19:19.245387Z"
    },
    "papermill": {
     "duration": 0.263658,
     "end_time": "2024-01-23T00:19:19.247835",
     "exception": false,
     "start_time": "2024-01-23T00:19:18.984177",
     "status": "completed"
    },
    "tags": []
   },
   "outputs": [
    {
     "name": "stderr",
     "output_type": "stream",
     "text": [
      "/tmp/ipykernel_19/1464123289.py:1: SettingWithCopyWarning: \n",
      "A value is trying to be set on a copy of a slice from a DataFrame\n",
      "\n",
      "See the caveats in the documentation: https://pandas.pydata.org/pandas-docs/stable/user_guide/indexing.html#returning-a-view-versus-a-copy\n",
      "  df_pitches1.dropna(inplace = True)\n"
     ]
    }
   ],
   "source": [
    "df_pitches1.dropna(inplace = True)"
   ]
  },
  {
   "cell_type": "code",
   "execution_count": 10,
   "id": "66d69abf",
   "metadata": {
    "execution": {
     "iopub.execute_input": "2024-01-23T00:19:19.264964Z",
     "iopub.status.busy": "2024-01-23T00:19:19.264741Z",
     "iopub.status.idle": "2024-01-23T00:19:19.387932Z",
     "shell.execute_reply": "2024-01-23T00:19:19.387112Z"
    },
    "papermill": {
     "duration": 0.133982,
     "end_time": "2024-01-23T00:19:19.390103",
     "exception": false,
     "start_time": "2024-01-23T00:19:19.256121",
     "status": "completed"
    },
    "tags": []
   },
   "outputs": [
    {
     "data": {
      "text/plain": [
       "px              0\n",
       "pz              0\n",
       "start_speed     0\n",
       "end_speed       0\n",
       "spin_rate       0\n",
       "spin_dir        0\n",
       "break_angle     0\n",
       "break_length    0\n",
       "break_y         0\n",
       "zone            0\n",
       "pitch_type      0\n",
       "b_count         0\n",
       "s_count         0\n",
       "outs            0\n",
       "pitch_num       0\n",
       "on_1b           0\n",
       "on_2b           0\n",
       "on_3b           0\n",
       "ab_id           0\n",
       "dtype: int64"
      ]
     },
     "execution_count": 10,
     "metadata": {},
     "output_type": "execute_result"
    }
   ],
   "source": [
    "df_pitches1.isnull().sum()"
   ]
  },
  {
   "cell_type": "markdown",
   "id": "58a838fb",
   "metadata": {
    "papermill": {
     "duration": 0.007846,
     "end_time": "2024-01-23T00:19:19.406572",
     "exception": false,
     "start_time": "2024-01-23T00:19:19.398726",
     "status": "completed"
    },
    "tags": []
   },
   "source": [
    "# Criando Variáveis"
   ]
  },
  {
   "cell_type": "code",
   "execution_count": 11,
   "id": "e801a790",
   "metadata": {
    "execution": {
     "iopub.execute_input": "2024-01-23T00:19:19.424107Z",
     "iopub.status.busy": "2024-01-23T00:19:19.423813Z",
     "iopub.status.idle": "2024-01-23T00:19:19.478470Z",
     "shell.execute_reply": "2024-01-23T00:19:19.477322Z"
    },
    "papermill": {
     "duration": 0.065531,
     "end_time": "2024-01-23T00:19:19.480411",
     "exception": false,
     "start_time": "2024-01-23T00:19:19.414880",
     "status": "completed"
    },
    "tags": []
   },
   "outputs": [
    {
     "data": {
      "text/plain": [
       "s_count\n",
       "0.0    1157146\n",
       "1.0     872010\n",
       "2.0     823809\n",
       "Name: count, dtype: int64"
      ]
     },
     "execution_count": 11,
     "metadata": {},
     "output_type": "execute_result"
    }
   ],
   "source": [
    "#Número de Strikes (2.0) = 823809\n",
    "df_pitches1.s_count.value_counts()"
   ]
  },
  {
   "cell_type": "code",
   "execution_count": 12,
   "id": "4634fd07",
   "metadata": {
    "execution": {
     "iopub.execute_input": "2024-01-23T00:19:19.544238Z",
     "iopub.status.busy": "2024-01-23T00:19:19.543226Z",
     "iopub.status.idle": "2024-01-23T00:19:19.594267Z",
     "shell.execute_reply": "2024-01-23T00:19:19.593608Z"
    },
    "papermill": {
     "duration": 0.062269,
     "end_time": "2024-01-23T00:19:19.595809",
     "exception": false,
     "start_time": "2024-01-23T00:19:19.533540",
     "status": "completed"
    },
    "tags": []
   },
   "outputs": [
    {
     "data": {
      "text/plain": [
       "b_count\n",
       "0.0    1287164\n",
       "1.0     851913\n",
       "2.0     480964\n",
       "3.0     232911\n",
       "4.0         13\n",
       "Name: count, dtype: int64"
      ]
     },
     "execution_count": 12,
     "metadata": {},
     "output_type": "execute_result"
    }
   ],
   "source": [
    "#Número de walks (3.0) = 232911\n",
    "df_pitches1.b_count.value_counts()"
   ]
  },
  {
   "cell_type": "code",
   "execution_count": 13,
   "id": "a497b390",
   "metadata": {
    "execution": {
     "iopub.execute_input": "2024-01-23T00:19:19.614603Z",
     "iopub.status.busy": "2024-01-23T00:19:19.613672Z",
     "iopub.status.idle": "2024-01-23T00:19:19.854179Z",
     "shell.execute_reply": "2024-01-23T00:19:19.853030Z"
    },
    "papermill": {
     "duration": 0.251848,
     "end_time": "2024-01-23T00:19:19.856315",
     "exception": false,
     "start_time": "2024-01-23T00:19:19.604467",
     "status": "completed"
    },
    "tags": []
   },
   "outputs": [
    {
     "name": "stderr",
     "output_type": "stream",
     "text": [
      "/tmp/ipykernel_19/2471829497.py:2: SettingWithCopyWarning: \n",
      "A value is trying to be set on a copy of a slice from a DataFrame\n",
      "\n",
      "See the caveats in the documentation: https://pandas.pydata.org/pandas-docs/stable/user_guide/indexing.html#returning-a-view-versus-a-copy\n",
      "  df_pitches1.drop(df_pitches1[df_pitches1['b_count'] == 4].index, inplace = True)\n"
     ]
    }
   ],
   "source": [
    "#Existia um outlier com valor 4, coisa que não existe\n",
    "df_pitches1.drop(df_pitches1[df_pitches1['b_count'] == 4].index, inplace = True)\n"
   ]
  },
  {
   "cell_type": "code",
   "execution_count": 14,
   "id": "2e85717e",
   "metadata": {
    "execution": {
     "iopub.execute_input": "2024-01-23T00:19:19.876019Z",
     "iopub.status.busy": "2024-01-23T00:19:19.875693Z",
     "iopub.status.idle": "2024-01-23T00:19:19.887336Z",
     "shell.execute_reply": "2024-01-23T00:19:19.886185Z"
    },
    "papermill": {
     "duration": 0.023872,
     "end_time": "2024-01-23T00:19:19.889480",
     "exception": false,
     "start_time": "2024-01-23T00:19:19.865608",
     "status": "completed"
    },
    "tags": []
   },
   "outputs": [
    {
     "name": "stderr",
     "output_type": "stream",
     "text": [
      "/tmp/ipykernel_19/3402060700.py:2: SettingWithCopyWarning: \n",
      "A value is trying to be set on a copy of a slice from a DataFrame.\n",
      "Try using .loc[row_indexer,col_indexer] = value instead\n",
      "\n",
      "See the caveats in the documentation: https://pandas.pydata.org/pandas-docs/stable/user_guide/indexing.html#returning-a-view-versus-a-copy\n",
      "  df_pitches1['strikeout'] = (df_pitches1['s_count'] == 2.0).astype(int)\n"
     ]
    }
   ],
   "source": [
    "#Fazendo uma coluna indicando quando se teve um strikeout\n",
    "df_pitches1['strikeout'] = (df_pitches1['s_count'] == 2.0).astype(int)"
   ]
  },
  {
   "cell_type": "code",
   "execution_count": 15,
   "id": "905162a4",
   "metadata": {
    "execution": {
     "iopub.execute_input": "2024-01-23T00:19:19.908418Z",
     "iopub.status.busy": "2024-01-23T00:19:19.908152Z",
     "iopub.status.idle": "2024-01-23T00:19:19.918379Z",
     "shell.execute_reply": "2024-01-23T00:19:19.917319Z"
    },
    "papermill": {
     "duration": 0.021801,
     "end_time": "2024-01-23T00:19:19.920363",
     "exception": false,
     "start_time": "2024-01-23T00:19:19.898562",
     "status": "completed"
    },
    "tags": []
   },
   "outputs": [
    {
     "name": "stderr",
     "output_type": "stream",
     "text": [
      "/tmp/ipykernel_19/3852962727.py:2: SettingWithCopyWarning: \n",
      "A value is trying to be set on a copy of a slice from a DataFrame.\n",
      "Try using .loc[row_indexer,col_indexer] = value instead\n",
      "\n",
      "See the caveats in the documentation: https://pandas.pydata.org/pandas-docs/stable/user_guide/indexing.html#returning-a-view-versus-a-copy\n",
      "  df_pitches1['walk'] = (df_pitches1['b_count'] == 3.0).astype(int)\n"
     ]
    }
   ],
   "source": [
    "#Fazendo uma coluna indicando quando se teve um walk\n",
    "df_pitches1['walk'] = (df_pitches1['b_count'] == 3.0).astype(int)"
   ]
  },
  {
   "cell_type": "code",
   "execution_count": 16,
   "id": "6ef5b0e6",
   "metadata": {
    "execution": {
     "iopub.execute_input": "2024-01-23T00:19:19.939093Z",
     "iopub.status.busy": "2024-01-23T00:19:19.938803Z",
     "iopub.status.idle": "2024-01-23T00:19:20.985053Z",
     "shell.execute_reply": "2024-01-23T00:19:20.984445Z"
    },
    "papermill": {
     "duration": 1.057739,
     "end_time": "2024-01-23T00:19:20.986946",
     "exception": false,
     "start_time": "2024-01-23T00:19:19.929207",
     "status": "completed"
    },
    "tags": []
   },
   "outputs": [],
   "source": [
    "import matplotlib.pyplot as plt\n",
    "import seaborn as sns"
   ]
  },
  {
   "cell_type": "markdown",
   "id": "afb2c461",
   "metadata": {
    "papermill": {
     "duration": 0.008791,
     "end_time": "2024-01-23T00:19:21.005364",
     "exception": false,
     "start_time": "2024-01-23T00:19:20.996573",
     "status": "completed"
    },
    "tags": []
   },
   "source": [
    "# Vizualização dos Dados e Análise Exploratória"
   ]
  },
  {
   "cell_type": "code",
   "execution_count": 17,
   "id": "b26ed657",
   "metadata": {
    "execution": {
     "iopub.execute_input": "2024-01-23T00:19:21.024846Z",
     "iopub.status.busy": "2024-01-23T00:19:21.024095Z",
     "iopub.status.idle": "2024-01-23T00:19:21.469015Z",
     "shell.execute_reply": "2024-01-23T00:19:21.468169Z"
    },
    "papermill": {
     "duration": 0.456721,
     "end_time": "2024-01-23T00:19:21.471057",
     "exception": false,
     "start_time": "2024-01-23T00:19:21.014336",
     "status": "completed"
    },
    "tags": []
   },
   "outputs": [
    {
     "data": {
      "image/png": "[encoded data removed]",
      "text/plain": [
       "<Figure size 640x480 with 1 Axes>"
      ]
     },
     "metadata": {},
     "output_type": "display_data"
    }
   ],
   "source": [
    "# Agrupando por tipo de arremesso e calculando a contagem de strikeouts\n",
    "contagem_strikeouts = df_pitches1.groupby('pitch_type')['strikeout'].sum().reset_index()\n",
    "\n",
    "# Crie um gráfico de dispersão\n",
    "sns.barplot(x='pitch_type', y='strikeout', data=contagem_strikeouts)\n",
    "\n",
    "# Adicione rótulos ao gráfico\n",
    "plt.xlabel('Tipo de Arremesso')\n",
    "plt.ylabel('Número de Strikeouts')\n",
    "plt.title('Relação entre Tipo de Arremesso e Número de Strikeouts')\n",
    "\n",
    "plt.show()"
   ]
  },
  {
   "cell_type": "code",
   "execution_count": 18,
   "id": "967c3ffb",
   "metadata": {
    "execution": {
     "iopub.execute_input": "2024-01-23T00:19:21.490758Z",
     "iopub.status.busy": "2024-01-23T00:19:21.490435Z",
     "iopub.status.idle": "2024-01-23T00:19:21.522794Z",
     "shell.execute_reply": "2024-01-23T00:19:21.521905Z"
    },
    "papermill": {
     "duration": 0.044048,
     "end_time": "2024-01-23T00:19:21.524617",
     "exception": false,
     "start_time": "2024-01-23T00:19:21.480569",
     "status": "completed"
    },
    "tags": []
   },
   "outputs": [
    {
     "data": {
      "text/plain": [
       "strikeout\n",
       "0    2029155\n",
       "1     823797\n",
       "Name: count, dtype: int64"
      ]
     },
     "execution_count": 18,
     "metadata": {},
     "output_type": "execute_result"
    }
   ],
   "source": [
    "df_pitches1.strikeout.value_counts()"
   ]
  },
  {
   "cell_type": "code",
   "execution_count": 19,
   "id": "088457c0",
   "metadata": {
    "execution": {
     "iopub.execute_input": "2024-01-23T00:19:21.544390Z",
     "iopub.status.busy": "2024-01-23T00:19:21.544049Z",
     "iopub.status.idle": "2024-01-23T00:19:21.969326Z",
     "shell.execute_reply": "2024-01-23T00:19:21.968274Z"
    },
    "papermill": {
     "duration": 0.43732,
     "end_time": "2024-01-23T00:19:21.971342",
     "exception": false,
     "start_time": "2024-01-23T00:19:21.534022",
     "status": "completed"
    },
    "tags": []
   },
   "outputs": [
    {
     "data": {
      "image/png": "[encoded data removed]",
      "text/plain": [
       "<Figure size 640x480 with 1 Axes>"
      ]
     },
     "metadata": {},
     "output_type": "display_data"
    }
   ],
   "source": [
    "# Agrupando por tipo de arremesso e calculando a contagem de walks\n",
    "contagem_walks = df_pitches1.groupby('pitch_type')['walk'].sum().reset_index()\n",
    "\n",
    "# Crie um gráfico de dispersão\n",
    "sns.barplot(x='pitch_type', y='walk', data=contagem_walks)\n",
    "\n",
    "# Adicione rótulos ao gráfico\n",
    "plt.xlabel('Tipo de Arremesso')\n",
    "plt.ylabel('Número de Walks')\n",
    "plt.title('Relação entre Tipo de Arremesso e Número de Walks')\n",
    "\n",
    "plt.show()"
   ]
  },
  {
   "cell_type": "code",
   "execution_count": 20,
   "id": "0193a33b",
   "metadata": {
    "execution": {
     "iopub.execute_input": "2024-01-23T00:19:21.992197Z",
     "iopub.status.busy": "2024-01-23T00:19:21.991449Z",
     "iopub.status.idle": "2024-01-23T00:19:22.023376Z",
     "shell.execute_reply": "2024-01-23T00:19:22.022389Z"
    },
    "papermill": {
     "duration": 0.043934,
     "end_time": "2024-01-23T00:19:22.025040",
     "exception": false,
     "start_time": "2024-01-23T00:19:21.981106",
     "status": "completed"
    },
    "tags": []
   },
   "outputs": [
    {
     "data": {
      "text/plain": [
       "walk\n",
       "0    2620041\n",
       "1     232911\n",
       "Name: count, dtype: int64"
      ]
     },
     "execution_count": 20,
     "metadata": {},
     "output_type": "execute_result"
    }
   ],
   "source": [
    "df_pitches1.walk.value_counts()"
   ]
  },
  {
   "cell_type": "markdown",
   "id": "db46dc47",
   "metadata": {
    "papermill": {
     "duration": 0.009389,
     "end_time": "2024-01-23T00:19:22.044593",
     "exception": false,
     "start_time": "2024-01-23T00:19:22.035204",
     "status": "completed"
    },
    "tags": []
   },
   "source": [
    "## Teste de variáveis para o modelo"
   ]
  },
  {
   "cell_type": "code",
   "execution_count": 21,
   "id": "a71a0764",
   "metadata": {
    "execution": {
     "iopub.execute_input": "2024-01-23T00:19:22.065460Z",
     "iopub.status.busy": "2024-01-23T00:19:22.064944Z",
     "iopub.status.idle": "2024-01-23T00:19:23.348776Z",
     "shell.execute_reply": "2024-01-23T00:19:23.347770Z"
    },
    "papermill": {
     "duration": 1.296993,
     "end_time": "2024-01-23T00:19:23.351146",
     "exception": false,
     "start_time": "2024-01-23T00:19:22.054153",
     "status": "completed"
    },
    "tags": []
   },
   "outputs": [],
   "source": [
    "import statsmodels.formula.api as smf\n",
    "import statsmodels.api as sm\n",
    "import patsy\n",
    "\n",
    "from sklearn.model_selection import train_test_split\n",
    "from sklearn.metrics import r2_score"
   ]
  },
  {
   "cell_type": "code",
   "execution_count": 22,
   "id": "9047671b",
   "metadata": {
    "execution": {
     "iopub.execute_input": "2024-01-23T00:19:23.372469Z",
     "iopub.status.busy": "2024-01-23T00:19:23.372111Z",
     "iopub.status.idle": "2024-01-23T00:19:24.398114Z",
     "shell.execute_reply": "2024-01-23T00:19:24.396973Z"
    },
    "papermill": {
     "duration": 1.039146,
     "end_time": "2024-01-23T00:19:24.400324",
     "exception": false,
     "start_time": "2024-01-23T00:19:23.361178",
     "status": "completed"
    },
    "tags": []
   },
   "outputs": [],
   "source": [
    "df_treino, df_teste = train_test_split(df_pitches1, test_size=0.3, random_state=42)"
   ]
  },
  {
   "cell_type": "code",
   "execution_count": 23,
   "id": "8200314d",
   "metadata": {
    "execution": {
     "iopub.execute_input": "2024-01-23T00:19:24.421455Z",
     "iopub.status.busy": "2024-01-23T00:19:24.421154Z",
     "iopub.status.idle": "2024-01-23T00:19:36.724479Z",
     "shell.execute_reply": "2024-01-23T00:19:36.723542Z"
    },
    "papermill": {
     "duration": 12.316339,
     "end_time": "2024-01-23T00:19:36.726694",
     "exception": false,
     "start_time": "2024-01-23T00:19:24.410355",
     "status": "completed"
    },
    "tags": []
   },
   "outputs": [],
   "source": [
    "# Testando as melhores variáveis que levam ao strikeout\n",
    "y, x = patsy.dmatrices('strikeout ~ px + pz + start_speed + end_speed + spin_rate + spin_dir + break_angle + break_length + break_y + C(zone) + C(pitch_type) + b_count + s_count + outs + pitch_num + on_1b + on_2b + on_3b', data = df_treino)"
   ]
  },
  {
   "cell_type": "code",
   "execution_count": 24,
   "id": "fc6c96cf",
   "metadata": {
    "execution": {
     "iopub.execute_input": "2024-01-23T00:19:36.748518Z",
     "iopub.status.busy": "2024-01-23T00:19:36.747360Z",
     "iopub.status.idle": "2024-01-23T00:19:42.118038Z",
     "shell.execute_reply": "2024-01-23T00:19:42.117236Z"
    },
    "papermill": {
     "duration": 5.383185,
     "end_time": "2024-01-23T00:19:42.120022",
     "exception": false,
     "start_time": "2024-01-23T00:19:36.736837",
     "status": "completed"
    },
    "tags": []
   },
   "outputs": [
    {
     "data": {
      "text/html": [
       "<table class=\"simpletable\">\n",
       "<caption>OLS Regression Results</caption>\n",
       "<tr>\n",
       "  <th>Dep. Variable:</th>        <td>strikeout</td>    <th>  R-squared:         </th>  <td>   0.758</td> \n",
       "</tr>\n",
       "<tr>\n",
       "  <th>Model:</th>                   <td>OLS</td>       <th>  Adj. R-squared:    </th>  <td>   0.758</td> \n",
       "</tr>\n",
       "<tr>\n",
       "  <th>Method:</th>             <td>Least Squares</td>  <th>  F-statistic:       </th>  <td>1.392e+05</td>\n",
       "</tr>\n",
       "<tr>\n",
       "  <th>Date:</th>             <td>Tue, 23 Jan 2024</td> <th>  Prob (F-statistic):</th>   <td>  0.00</td>  \n",
       "</tr>\n",
       "<tr>\n",
       "  <th>Time:</th>                 <td>00:19:42</td>     <th>  Log-Likelihood:    </th> <td>1.6446e+05</td>\n",
       "</tr>\n",
       "<tr>\n",
       "  <th>No. Observations:</th>      <td>1997066</td>     <th>  AIC:               </th> <td>-3.288e+05</td>\n",
       "</tr>\n",
       "<tr>\n",
       "  <th>Df Residuals:</th>          <td>1997020</td>     <th>  BIC:               </th> <td>-3.282e+05</td>\n",
       "</tr>\n",
       "<tr>\n",
       "  <th>Df Model:</th>              <td>    45</td>      <th>                     </th>      <td> </td>    \n",
       "</tr>\n",
       "<tr>\n",
       "  <th>Covariance Type:</th>      <td>nonrobust</td>    <th>                     </th>      <td> </td>    \n",
       "</tr>\n",
       "</table>\n",
       "<table class=\"simpletable\">\n",
       "<tr>\n",
       "           <td></td>              <th>coef</th>     <th>std err</th>      <th>t</th>      <th>P>|t|</th>  <th>[0.025</th>    <th>0.975]</th>  \n",
       "</tr>\n",
       "<tr>\n",
       "  <th>Intercept</th>           <td>   -0.0954</td> <td>    0.146</td> <td>   -0.653</td> <td> 0.513</td> <td>   -0.381</td> <td>    0.191</td>\n",
       "</tr>\n",
       "<tr>\n",
       "  <th>C(zone)[T.2.0]</th>      <td>   -0.0012</td> <td>    0.001</td> <td>   -1.024</td> <td> 0.306</td> <td>   -0.004</td> <td>    0.001</td>\n",
       "</tr>\n",
       "<tr>\n",
       "  <th>C(zone)[T.3.0]</th>      <td>   -0.0047</td> <td>    0.001</td> <td>   -3.604</td> <td> 0.000</td> <td>   -0.007</td> <td>   -0.002</td>\n",
       "</tr>\n",
       "<tr>\n",
       "  <th>C(zone)[T.4.0]</th>      <td>   -0.0052</td> <td>    0.001</td> <td>   -4.608</td> <td> 0.000</td> <td>   -0.007</td> <td>   -0.003</td>\n",
       "</tr>\n",
       "<tr>\n",
       "  <th>C(zone)[T.5.0]</th>      <td>   -0.0054</td> <td>    0.001</td> <td>   -4.853</td> <td> 0.000</td> <td>   -0.008</td> <td>   -0.003</td>\n",
       "</tr>\n",
       "<tr>\n",
       "  <th>C(zone)[T.6.0]</th>      <td>   -0.0099</td> <td>    0.001</td> <td>   -8.398</td> <td> 0.000</td> <td>   -0.012</td> <td>   -0.008</td>\n",
       "</tr>\n",
       "<tr>\n",
       "  <th>C(zone)[T.7.0]</th>      <td>   -0.0079</td> <td>    0.001</td> <td>   -6.585</td> <td> 0.000</td> <td>   -0.010</td> <td>   -0.006</td>\n",
       "</tr>\n",
       "<tr>\n",
       "  <th>C(zone)[T.8.0]</th>      <td>   -0.0062</td> <td>    0.001</td> <td>   -5.277</td> <td> 0.000</td> <td>   -0.009</td> <td>   -0.004</td>\n",
       "</tr>\n",
       "<tr>\n",
       "  <th>C(zone)[T.9.0]</th>      <td>   -0.0100</td> <td>    0.001</td> <td>   -8.212</td> <td> 0.000</td> <td>   -0.012</td> <td>   -0.008</td>\n",
       "</tr>\n",
       "<tr>\n",
       "  <th>C(zone)[T.11.0]</th>     <td>    0.0070</td> <td>    0.001</td> <td>    7.028</td> <td> 0.000</td> <td>    0.005</td> <td>    0.009</td>\n",
       "</tr>\n",
       "<tr>\n",
       "  <th>C(zone)[T.12.0]</th>     <td>    0.0021</td> <td>    0.001</td> <td>    1.908</td> <td> 0.056</td> <td>-5.86e-05</td> <td>    0.004</td>\n",
       "</tr>\n",
       "<tr>\n",
       "  <th>C(zone)[T.13.0]</th>     <td>   -0.0050</td> <td>    0.001</td> <td>   -4.658</td> <td> 0.000</td> <td>   -0.007</td> <td>   -0.003</td>\n",
       "</tr>\n",
       "<tr>\n",
       "  <th>C(zone)[T.14.0]</th>     <td>   -0.0056</td> <td>    0.001</td> <td>   -4.833</td> <td> 0.000</td> <td>   -0.008</td> <td>   -0.003</td>\n",
       "</tr>\n",
       "<tr>\n",
       "  <th>C(pitch_type)[T.CH]</th> <td>   -0.1929</td> <td>    0.111</td> <td>   -1.731</td> <td> 0.083</td> <td>   -0.411</td> <td>    0.025</td>\n",
       "</tr>\n",
       "<tr>\n",
       "  <th>C(pitch_type)[T.CU]</th> <td>   -0.1563</td> <td>    0.111</td> <td>   -1.403</td> <td> 0.161</td> <td>   -0.375</td> <td>    0.062</td>\n",
       "</tr>\n",
       "<tr>\n",
       "  <th>C(pitch_type)[T.EP]</th> <td>   -0.1568</td> <td>    0.112</td> <td>   -1.402</td> <td> 0.161</td> <td>   -0.376</td> <td>    0.062</td>\n",
       "</tr>\n",
       "<tr>\n",
       "  <th>C(pitch_type)[T.FA]</th> <td>   -0.2443</td> <td>    0.136</td> <td>   -1.790</td> <td> 0.073</td> <td>   -0.512</td> <td>    0.023</td>\n",
       "</tr>\n",
       "<tr>\n",
       "  <th>C(pitch_type)[T.FC]</th> <td>   -0.1820</td> <td>    0.111</td> <td>   -1.633</td> <td> 0.102</td> <td>   -0.400</td> <td>    0.036</td>\n",
       "</tr>\n",
       "<tr>\n",
       "  <th>C(pitch_type)[T.FF]</th> <td>   -0.1623</td> <td>    0.111</td> <td>   -1.456</td> <td> 0.145</td> <td>   -0.381</td> <td>    0.056</td>\n",
       "</tr>\n",
       "<tr>\n",
       "  <th>C(pitch_type)[T.FO]</th> <td>   -0.1652</td> <td>    0.112</td> <td>   -1.477</td> <td> 0.140</td> <td>   -0.384</td> <td>    0.054</td>\n",
       "</tr>\n",
       "<tr>\n",
       "  <th>C(pitch_type)[T.FS]</th> <td>   -0.1764</td> <td>    0.111</td> <td>   -1.583</td> <td> 0.114</td> <td>   -0.395</td> <td>    0.042</td>\n",
       "</tr>\n",
       "<tr>\n",
       "  <th>C(pitch_type)[T.FT]</th> <td>   -0.1757</td> <td>    0.111</td> <td>   -1.576</td> <td> 0.115</td> <td>   -0.394</td> <td>    0.043</td>\n",
       "</tr>\n",
       "<tr>\n",
       "  <th>C(pitch_type)[T.IN]</th> <td>   -0.0534</td> <td>    0.111</td> <td>   -0.479</td> <td> 0.632</td> <td>   -0.272</td> <td>    0.165</td>\n",
       "</tr>\n",
       "<tr>\n",
       "  <th>C(pitch_type)[T.KC]</th> <td>   -0.1658</td> <td>    0.111</td> <td>   -1.488</td> <td> 0.137</td> <td>   -0.384</td> <td>    0.053</td>\n",
       "</tr>\n",
       "<tr>\n",
       "  <th>C(pitch_type)[T.KN]</th> <td>   -0.1690</td> <td>    0.111</td> <td>   -1.516</td> <td> 0.130</td> <td>   -0.387</td> <td>    0.049</td>\n",
       "</tr>\n",
       "<tr>\n",
       "  <th>C(pitch_type)[T.PO]</th> <td>   -0.1683</td> <td>    0.112</td> <td>   -1.504</td> <td> 0.133</td> <td>   -0.388</td> <td>    0.051</td>\n",
       "</tr>\n",
       "<tr>\n",
       "  <th>C(pitch_type)[T.SC]</th> <td>   -0.1397</td> <td>    0.114</td> <td>   -1.224</td> <td> 0.221</td> <td>   -0.363</td> <td>    0.084</td>\n",
       "</tr>\n",
       "<tr>\n",
       "  <th>C(pitch_type)[T.SI]</th> <td>   -0.1721</td> <td>    0.111</td> <td>   -1.544</td> <td> 0.122</td> <td>   -0.391</td> <td>    0.046</td>\n",
       "</tr>\n",
       "<tr>\n",
       "  <th>C(pitch_type)[T.SL]</th> <td>   -0.1643</td> <td>    0.111</td> <td>   -1.474</td> <td> 0.140</td> <td>   -0.383</td> <td>    0.054</td>\n",
       "</tr>\n",
       "<tr>\n",
       "  <th>C(pitch_type)[T.UN]</th> <td>   -0.0619</td> <td>    0.117</td> <td>   -0.530</td> <td> 0.596</td> <td>   -0.291</td> <td>    0.167</td>\n",
       "</tr>\n",
       "<tr>\n",
       "  <th>px</th>                  <td>    0.0033</td> <td>    0.000</td> <td>    9.379</td> <td> 0.000</td> <td>    0.003</td> <td>    0.004</td>\n",
       "</tr>\n",
       "<tr>\n",
       "  <th>pz</th>                  <td>   -0.0008</td> <td>    0.000</td> <td>   -2.556</td> <td> 0.011</td> <td>   -0.001</td> <td>   -0.000</td>\n",
       "</tr>\n",
       "<tr>\n",
       "  <th>start_speed</th>         <td>    0.0021</td> <td>    0.000</td> <td>    7.547</td> <td> 0.000</td> <td>    0.002</td> <td>    0.003</td>\n",
       "</tr>\n",
       "<tr>\n",
       "  <th>end_speed</th>           <td>   -0.0012</td> <td>    0.000</td> <td>   -3.902</td> <td> 0.000</td> <td>   -0.002</td> <td>   -0.001</td>\n",
       "</tr>\n",
       "<tr>\n",
       "  <th>spin_rate</th>           <td>-2.037e-06</td> <td> 3.98e-07</td> <td>   -5.115</td> <td> 0.000</td> <td>-2.82e-06</td> <td>-1.26e-06</td>\n",
       "</tr>\n",
       "<tr>\n",
       "  <th>spin_dir</th>            <td> 1.873e-06</td> <td> 3.31e-06</td> <td>    0.566</td> <td> 0.572</td> <td>-4.62e-06</td> <td> 8.36e-06</td>\n",
       "</tr>\n",
       "<tr>\n",
       "  <th>break_angle</th>         <td>-3.875e-05</td> <td> 8.84e-06</td> <td>   -4.381</td> <td> 0.000</td> <td>-5.61e-05</td> <td>-2.14e-05</td>\n",
       "</tr>\n",
       "<tr>\n",
       "  <th>break_length</th>        <td>    0.0017</td> <td>    0.000</td> <td>   11.300</td> <td> 0.000</td> <td>    0.001</td> <td>    0.002</td>\n",
       "</tr>\n",
       "<tr>\n",
       "  <th>break_y</th>             <td>   -0.0029</td> <td>    0.004</td> <td>   -0.724</td> <td> 0.469</td> <td>   -0.011</td> <td>    0.005</td>\n",
       "</tr>\n",
       "<tr>\n",
       "  <th>b_count</th>             <td>   -0.1156</td> <td>    0.000</td> <td> -280.002</td> <td> 0.000</td> <td>   -0.116</td> <td>   -0.115</td>\n",
       "</tr>\n",
       "<tr>\n",
       "  <th>s_count</th>             <td>    0.3343</td> <td>    0.000</td> <td>  720.264</td> <td> 0.000</td> <td>    0.333</td> <td>    0.335</td>\n",
       "</tr>\n",
       "<tr>\n",
       "  <th>outs</th>                <td>    0.0006</td> <td>    0.000</td> <td>    3.223</td> <td> 0.001</td> <td>    0.000</td> <td>    0.001</td>\n",
       "</tr>\n",
       "<tr>\n",
       "  <th>pitch_num</th>           <td>    0.1148</td> <td>    0.000</td> <td>  329.629</td> <td> 0.000</td> <td>    0.114</td> <td>    0.116</td>\n",
       "</tr>\n",
       "<tr>\n",
       "  <th>on_1b</th>               <td>    0.0025</td> <td>    0.000</td> <td>    6.914</td> <td> 0.000</td> <td>    0.002</td> <td>    0.003</td>\n",
       "</tr>\n",
       "<tr>\n",
       "  <th>on_2b</th>               <td>    0.0018</td> <td>    0.000</td> <td>    4.211</td> <td> 0.000</td> <td>    0.001</td> <td>    0.003</td>\n",
       "</tr>\n",
       "<tr>\n",
       "  <th>on_3b</th>               <td>    0.0010</td> <td>    0.001</td> <td>    1.852</td> <td> 0.064</td> <td>-6.05e-05</td> <td>    0.002</td>\n",
       "</tr>\n",
       "</table>\n",
       "<table class=\"simpletable\">\n",
       "<tr>\n",
       "  <th>Omnibus:</th>       <td>64239369.359</td> <th>  Durbin-Watson:     </th>  <td>   1.997</td> \n",
       "</tr>\n",
       "<tr>\n",
       "  <th>Prob(Omnibus):</th>    <td> 0.000</td>    <th>  Jarque-Bera (JB):  </th> <td>302141.126</td>\n",
       "</tr>\n",
       "<tr>\n",
       "  <th>Skew:</th>             <td>-0.682</td>    <th>  Prob(JB):          </th>  <td>    0.00</td> \n",
       "</tr>\n",
       "<tr>\n",
       "  <th>Kurtosis:</th>         <td> 1.669</td>    <th>  Cond. No.          </th>  <td>5.63e+06</td> \n",
       "</tr>\n",
       "</table><br/><br/>Notes:<br/>[1] Standard Errors assume that the covariance matrix of the errors is correctly specified.<br/>[2] The condition number is large, 5.63e+06. This might indicate that there are<br/>strong multicollinearity or other numerical problems."
      ],
      "text/latex": [
       "\\begin{center}\n",
       "\\begin{tabular}{lclc}\n",
       "\\toprule\n",
       "\\textbf{Dep. Variable:}       &    strikeout     & \\textbf{  R-squared:         } &     0.758   \\\\\n",
       "\\textbf{Model:}               &       OLS        & \\textbf{  Adj. R-squared:    } &     0.758   \\\\\n",
       "\\textbf{Method:}              &  Least Squares   & \\textbf{  F-statistic:       } & 1.392e+05   \\\\\n",
       "\\textbf{Date:}                & Tue, 23 Jan 2024 & \\textbf{  Prob (F-statistic):} &     0.00    \\\\\n",
       "\\textbf{Time:}                &     00:19:42     & \\textbf{  Log-Likelihood:    } & 1.6446e+05  \\\\\n",
       "\\textbf{No. Observations:}    &     1997066      & \\textbf{  AIC:               } & -3.288e+05  \\\\\n",
       "\\textbf{Df Residuals:}        &     1997020      & \\textbf{  BIC:               } & -3.282e+05  \\\\\n",
       "\\textbf{Df Model:}            &          45      & \\textbf{                     } &             \\\\\n",
       "\\textbf{Covariance Type:}     &    nonrobust     & \\textbf{                     } &             \\\\\n",
       "\\bottomrule\n",
       "\\end{tabular}\n",
       "\\begin{tabular}{lcccccc}\n",
       "                              & \\textbf{coef} & \\textbf{std err} & \\textbf{t} & \\textbf{P$> |$t$|$} & \\textbf{[0.025} & \\textbf{0.975]}  \\\\\n",
       "\\midrule\n",
       "\\textbf{Intercept}            &      -0.0954  &        0.146     &    -0.653  &         0.513        &       -0.381    &        0.191     \\\\\n",
       "\\textbf{C(zone)[T.2.0]}       &      -0.0012  &        0.001     &    -1.024  &         0.306        &       -0.004    &        0.001     \\\\\n",
       "\\textbf{C(zone)[T.3.0]}       &      -0.0047  &        0.001     &    -3.604  &         0.000        &       -0.007    &       -0.002     \\\\\n",
       "\\textbf{C(zone)[T.4.0]}       &      -0.0052  &        0.001     &    -4.608  &         0.000        &       -0.007    &       -0.003     \\\\\n",
       "\\textbf{C(zone)[T.5.0]}       &      -0.0054  &        0.001     &    -4.853  &         0.000        &       -0.008    &       -0.003     \\\\\n",
       "\\textbf{C(zone)[T.6.0]}       &      -0.0099  &        0.001     &    -8.398  &         0.000        &       -0.012    &       -0.008     \\\\\n",
       "\\textbf{C(zone)[T.7.0]}       &      -0.0079  &        0.001     &    -6.585  &         0.000        &       -0.010    &       -0.006     \\\\\n",
       "\\textbf{C(zone)[T.8.0]}       &      -0.0062  &        0.001     &    -5.277  &         0.000        &       -0.009    &       -0.004     \\\\\n",
       "\\textbf{C(zone)[T.9.0]}       &      -0.0100  &        0.001     &    -8.212  &         0.000        &       -0.012    &       -0.008     \\\\\n",
       "\\textbf{C(zone)[T.11.0]}      &       0.0070  &        0.001     &     7.028  &         0.000        &        0.005    &        0.009     \\\\\n",
       "\\textbf{C(zone)[T.12.0]}      &       0.0021  &        0.001     &     1.908  &         0.056        &    -5.86e-05    &        0.004     \\\\\n",
       "\\textbf{C(zone)[T.13.0]}      &      -0.0050  &        0.001     &    -4.658  &         0.000        &       -0.007    &       -0.003     \\\\\n",
       "\\textbf{C(zone)[T.14.0]}      &      -0.0056  &        0.001     &    -4.833  &         0.000        &       -0.008    &       -0.003     \\\\\n",
       "\\textbf{C(pitch\\_type)[T.CH]} &      -0.1929  &        0.111     &    -1.731  &         0.083        &       -0.411    &        0.025     \\\\\n",
       "\\textbf{C(pitch\\_type)[T.CU]} &      -0.1563  &        0.111     &    -1.403  &         0.161        &       -0.375    &        0.062     \\\\\n",
       "\\textbf{C(pitch\\_type)[T.EP]} &      -0.1568  &        0.112     &    -1.402  &         0.161        &       -0.376    &        0.062     \\\\\n",
       "\\textbf{C(pitch\\_type)[T.FA]} &      -0.2443  &        0.136     &    -1.790  &         0.073        &       -0.512    &        0.023     \\\\\n",
       "\\textbf{C(pitch\\_type)[T.FC]} &      -0.1820  &        0.111     &    -1.633  &         0.102        &       -0.400    &        0.036     \\\\\n",
       "\\textbf{C(pitch\\_type)[T.FF]} &      -0.1623  &        0.111     &    -1.456  &         0.145        &       -0.381    &        0.056     \\\\\n",
       "\\textbf{C(pitch\\_type)[T.FO]} &      -0.1652  &        0.112     &    -1.477  &         0.140        &       -0.384    &        0.054     \\\\\n",
       "\\textbf{C(pitch\\_type)[T.FS]} &      -0.1764  &        0.111     &    -1.583  &         0.114        &       -0.395    &        0.042     \\\\\n",
       "\\textbf{C(pitch\\_type)[T.FT]} &      -0.1757  &        0.111     &    -1.576  &         0.115        &       -0.394    &        0.043     \\\\\n",
       "\\textbf{C(pitch\\_type)[T.IN]} &      -0.0534  &        0.111     &    -0.479  &         0.632        &       -0.272    &        0.165     \\\\\n",
       "\\textbf{C(pitch\\_type)[T.KC]} &      -0.1658  &        0.111     &    -1.488  &         0.137        &       -0.384    &        0.053     \\\\\n",
       "\\textbf{C(pitch\\_type)[T.KN]} &      -0.1690  &        0.111     &    -1.516  &         0.130        &       -0.387    &        0.049     \\\\\n",
       "\\textbf{C(pitch\\_type)[T.PO]} &      -0.1683  &        0.112     &    -1.504  &         0.133        &       -0.388    &        0.051     \\\\\n",
       "\\textbf{C(pitch\\_type)[T.SC]} &      -0.1397  &        0.114     &    -1.224  &         0.221        &       -0.363    &        0.084     \\\\\n",
       "\\textbf{C(pitch\\_type)[T.SI]} &      -0.1721  &        0.111     &    -1.544  &         0.122        &       -0.391    &        0.046     \\\\\n",
       "\\textbf{C(pitch\\_type)[T.SL]} &      -0.1643  &        0.111     &    -1.474  &         0.140        &       -0.383    &        0.054     \\\\\n",
       "\\textbf{C(pitch\\_type)[T.UN]} &      -0.0619  &        0.117     &    -0.530  &         0.596        &       -0.291    &        0.167     \\\\\n",
       "\\textbf{px}                   &       0.0033  &        0.000     &     9.379  &         0.000        &        0.003    &        0.004     \\\\\n",
       "\\textbf{pz}                   &      -0.0008  &        0.000     &    -2.556  &         0.011        &       -0.001    &       -0.000     \\\\\n",
       "\\textbf{start\\_speed}         &       0.0021  &        0.000     &     7.547  &         0.000        &        0.002    &        0.003     \\\\\n",
       "\\textbf{end\\_speed}           &      -0.0012  &        0.000     &    -3.902  &         0.000        &       -0.002    &       -0.001     \\\\\n",
       "\\textbf{spin\\_rate}           &   -2.037e-06  &     3.98e-07     &    -5.115  &         0.000        &    -2.82e-06    &    -1.26e-06     \\\\\n",
       "\\textbf{spin\\_dir}            &    1.873e-06  &     3.31e-06     &     0.566  &         0.572        &    -4.62e-06    &     8.36e-06     \\\\\n",
       "\\textbf{break\\_angle}         &   -3.875e-05  &     8.84e-06     &    -4.381  &         0.000        &    -5.61e-05    &    -2.14e-05     \\\\\n",
       "\\textbf{break\\_length}        &       0.0017  &        0.000     &    11.300  &         0.000        &        0.001    &        0.002     \\\\\n",
       "\\textbf{break\\_y}             &      -0.0029  &        0.004     &    -0.724  &         0.469        &       -0.011    &        0.005     \\\\\n",
       "\\textbf{b\\_count}             &      -0.1156  &        0.000     &  -280.002  &         0.000        &       -0.116    &       -0.115     \\\\\n",
       "\\textbf{s\\_count}             &       0.3343  &        0.000     &   720.264  &         0.000        &        0.333    &        0.335     \\\\\n",
       "\\textbf{outs}                 &       0.0006  &        0.000     &     3.223  &         0.001        &        0.000    &        0.001     \\\\\n",
       "\\textbf{pitch\\_num}           &       0.1148  &        0.000     &   329.629  &         0.000        &        0.114    &        0.116     \\\\\n",
       "\\textbf{on\\_1b}               &       0.0025  &        0.000     &     6.914  &         0.000        &        0.002    &        0.003     \\\\\n",
       "\\textbf{on\\_2b}               &       0.0018  &        0.000     &     4.211  &         0.000        &        0.001    &        0.003     \\\\\n",
       "\\textbf{on\\_3b}               &       0.0010  &        0.001     &     1.852  &         0.064        &    -6.05e-05    &        0.002     \\\\\n",
       "\\bottomrule\n",
       "\\end{tabular}\n",
       "\\begin{tabular}{lclc}\n",
       "\\textbf{Omnibus:}       & 64239369.359 & \\textbf{  Durbin-Watson:     } &     1.997   \\\\\n",
       "\\textbf{Prob(Omnibus):} &     0.000    & \\textbf{  Jarque-Bera (JB):  } & 302141.126  \\\\\n",
       "\\textbf{Skew:}          &    -0.682    & \\textbf{  Prob(JB):          } &      0.00   \\\\\n",
       "\\textbf{Kurtosis:}      &     1.669    & \\textbf{  Cond. No.          } &  5.63e+06   \\\\\n",
       "\\bottomrule\n",
       "\\end{tabular}\n",
       "%\\caption{OLS Regression Results}\n",
       "\\end{center}\n",
       "\n",
       "Notes: \\newline\n",
       " [1] Standard Errors assume that the covariance matrix of the errors is correctly specified. \\newline\n",
       " [2] The condition number is large, 5.63e+06. This might indicate that there are \\newline\n",
       " strong multicollinearity or other numerical problems."
      ],
      "text/plain": [
       "<class 'statsmodels.iolib.summary.Summary'>\n",
       "\"\"\"\n",
       "                            OLS Regression Results                            \n",
       "==============================================================================\n",
       "Dep. Variable:              strikeout   R-squared:                       0.758\n",
       "Model:                            OLS   Adj. R-squared:                  0.758\n",
       "Method:                 Least Squares   F-statistic:                 1.392e+05\n",
       "Date:                Tue, 23 Jan 2024   Prob (F-statistic):               0.00\n",
       "Time:                        00:19:42   Log-Likelihood:             1.6446e+05\n",
       "No. Observations:             1997066   AIC:                        -3.288e+05\n",
       "Df Residuals:                 1997020   BIC:                        -3.282e+05\n",
       "Df Model:                          45                                         \n",
       "Covariance Type:            nonrobust                                         \n",
       "=======================================================================================\n",
       "                          coef    std err          t      P>|t|      [0.025      0.975]\n",
       "---------------------------------------------------------------------------------------\n",
       "Intercept              -0.0954      0.146     -0.653      0.513      -0.381       0.191\n",
       "C(zone)[T.2.0]         -0.0012      0.001     -1.024      0.306      -0.004       0.001\n",
       "C(zone)[T.3.0]         -0.0047      0.001     -3.604      0.000      -0.007      -0.002\n",
       "C(zone)[T.4.0]         -0.0052      0.001     -4.608      0.000      -0.007      -0.003\n",
       "C(zone)[T.5.0]         -0.0054      0.001     -4.853      0.000      -0.008      -0.003\n",
       "C(zone)[T.6.0]         -0.0099      0.001     -8.398      0.000      -0.012      -0.008\n",
       "C(zone)[T.7.0]         -0.0079      0.001     -6.585      0.000      -0.010      -0.006\n",
       "C(zone)[T.8.0]         -0.0062      0.001     -5.277      0.000      -0.009      -0.004\n",
       "C(zone)[T.9.0]         -0.0100      0.001     -8.212      0.000      -0.012      -0.008\n",
       "C(zone)[T.11.0]         0.0070      0.001      7.028      0.000       0.005       0.009\n",
       "C(zone)[T.12.0]         0.0021      0.001      1.908      0.056   -5.86e-05       0.004\n",
       "C(zone)[T.13.0]        -0.0050      0.001     -4.658      0.000      -0.007      -0.003\n",
       "C(zone)[T.14.0]        -0.0056      0.001     -4.833      0.000      -0.008      -0.003\n",
       "C(pitch_type)[T.CH]    -0.1929      0.111     -1.731      0.083      -0.411       0.025\n",
       "C(pitch_type)[T.CU]    -0.1563      0.111     -1.403      0.161      -0.375       0.062\n",
       "C(pitch_type)[T.EP]    -0.1568      0.112     -1.402      0.161      -0.376       0.062\n",
       "C(pitch_type)[T.FA]    -0.2443      0.136     -1.790      0.073      -0.512       0.023\n",
       "C(pitch_type)[T.FC]    -0.1820      0.111     -1.633      0.102      -0.400       0.036\n",
       "C(pitch_type)[T.FF]    -0.1623      0.111     -1.456      0.145      -0.381       0.056\n",
       "C(pitch_type)[T.FO]    -0.1652      0.112     -1.477      0.140      -0.384       0.054\n",
       "C(pitch_type)[T.FS]    -0.1764      0.111     -1.583      0.114      -0.395       0.042\n",
       "C(pitch_type)[T.FT]    -0.1757      0.111     -1.576      0.115      -0.394       0.043\n",
       "C(pitch_type)[T.IN]    -0.0534      0.111     -0.479      0.632      -0.272       0.165\n",
       "C(pitch_type)[T.KC]    -0.1658      0.111     -1.488      0.137      -0.384       0.053\n",
       "C(pitch_type)[T.KN]    -0.1690      0.111     -1.516      0.130      -0.387       0.049\n",
       "C(pitch_type)[T.PO]    -0.1683      0.112     -1.504      0.133      -0.388       0.051\n",
       "C(pitch_type)[T.SC]    -0.1397      0.114     -1.224      0.221      -0.363       0.084\n",
       "C(pitch_type)[T.SI]    -0.1721      0.111     -1.544      0.122      -0.391       0.046\n",
       "C(pitch_type)[T.SL]    -0.1643      0.111     -1.474      0.140      -0.383       0.054\n",
       "C(pitch_type)[T.UN]    -0.0619      0.117     -0.530      0.596      -0.291       0.167\n",
       "px                      0.0033      0.000      9.379      0.000       0.003       0.004\n",
       "pz                     -0.0008      0.000     -2.556      0.011      -0.001      -0.000\n",
       "start_speed             0.0021      0.000      7.547      0.000       0.002       0.003\n",
       "end_speed              -0.0012      0.000     -3.902      0.000      -0.002      -0.001\n",
       "spin_rate           -2.037e-06   3.98e-07     -5.115      0.000   -2.82e-06   -1.26e-06\n",
       "spin_dir             1.873e-06   3.31e-06      0.566      0.572   -4.62e-06    8.36e-06\n",
       "break_angle         -3.875e-05   8.84e-06     -4.381      0.000   -5.61e-05   -2.14e-05\n",
       "break_length            0.0017      0.000     11.300      0.000       0.001       0.002\n",
       "break_y                -0.0029      0.004     -0.724      0.469      -0.011       0.005\n",
       "b_count                -0.1156      0.000   -280.002      0.000      -0.116      -0.115\n",
       "s_count                 0.3343      0.000    720.264      0.000       0.333       0.335\n",
       "outs                    0.0006      0.000      3.223      0.001       0.000       0.001\n",
       "pitch_num               0.1148      0.000    329.629      0.000       0.114       0.116\n",
       "on_1b                   0.0025      0.000      6.914      0.000       0.002       0.003\n",
       "on_2b                   0.0018      0.000      4.211      0.000       0.001       0.003\n",
       "on_3b                   0.0010      0.001      1.852      0.064   -6.05e-05       0.002\n",
       "==============================================================================\n",
       "Omnibus:                 64239369.359   Durbin-Watson:                   1.997\n",
       "Prob(Omnibus):                  0.000   Jarque-Bera (JB):           302141.126\n",
       "Skew:                          -0.682   Prob(JB):                         0.00\n",
       "Kurtosis:                       1.669   Cond. No.                     5.63e+06\n",
       "==============================================================================\n",
       "\n",
       "Notes:\n",
       "[1] Standard Errors assume that the covariance matrix of the errors is correctly specified.\n",
       "[2] The condition number is large, 5.63e+06. This might indicate that there are\n",
       "strong multicollinearity or other numerical problems.\n",
       "\"\"\""
      ]
     },
     "execution_count": 24,
     "metadata": {},
     "output_type": "execute_result"
    }
   ],
   "source": [
    "sm.OLS(y, x).fit().summary()"
   ]
  },
  {
   "cell_type": "code",
   "execution_count": 25,
   "id": "799a59ce",
   "metadata": {
    "execution": {
     "iopub.execute_input": "2024-01-23T00:19:42.148854Z",
     "iopub.status.busy": "2024-01-23T00:19:42.148538Z",
     "iopub.status.idle": "2024-01-23T00:19:42.498026Z",
     "shell.execute_reply": "2024-01-23T00:19:42.497393Z"
    },
    "papermill": {
     "duration": 0.366177,
     "end_time": "2024-01-23T00:19:42.500057",
     "exception": false,
     "start_time": "2024-01-23T00:19:42.133880",
     "status": "completed"
    },
    "tags": []
   },
   "outputs": [],
   "source": [
    "# Retirando variáveis a partir do p-value\n",
    "y, x = patsy.dmatrices('strikeout ~  pz + start_speed + end_speed + break_angle + break_length  + b_count + s_count + pitch_num', data = df_treino)"
   ]
  },
  {
   "cell_type": "code",
   "execution_count": 26,
   "id": "5e9acc49",
   "metadata": {
    "execution": {
     "iopub.execute_input": "2024-01-23T00:19:42.522205Z",
     "iopub.status.busy": "2024-01-23T00:19:42.521900Z",
     "iopub.status.idle": "2024-01-23T00:19:43.374659Z",
     "shell.execute_reply": "2024-01-23T00:19:43.373989Z"
    },
    "papermill": {
     "duration": 0.866019,
     "end_time": "2024-01-23T00:19:43.376481",
     "exception": false,
     "start_time": "2024-01-23T00:19:42.510462",
     "status": "completed"
    },
    "tags": []
   },
   "outputs": [
    {
     "data": {
      "text/html": [
       "<table class=\"simpletable\">\n",
       "<caption>OLS Regression Results</caption>\n",
       "<tr>\n",
       "  <th>Dep. Variable:</th>        <td>strikeout</td>    <th>  R-squared:         </th>  <td>   0.757</td> \n",
       "</tr>\n",
       "<tr>\n",
       "  <th>Model:</th>                   <td>OLS</td>       <th>  Adj. R-squared:    </th>  <td>   0.757</td> \n",
       "</tr>\n",
       "<tr>\n",
       "  <th>Method:</th>             <td>Least Squares</td>  <th>  F-statistic:       </th>  <td>7.796e+05</td>\n",
       "</tr>\n",
       "<tr>\n",
       "  <th>Date:</th>             <td>Tue, 23 Jan 2024</td> <th>  Prob (F-statistic):</th>   <td>  0.00</td>  \n",
       "</tr>\n",
       "<tr>\n",
       "  <th>Time:</th>                 <td>00:19:43</td>     <th>  Log-Likelihood:    </th> <td>1.6127e+05</td>\n",
       "</tr>\n",
       "<tr>\n",
       "  <th>No. Observations:</th>      <td>1997066</td>     <th>  AIC:               </th> <td>-3.225e+05</td>\n",
       "</tr>\n",
       "<tr>\n",
       "  <th>Df Residuals:</th>          <td>1997057</td>     <th>  BIC:               </th> <td>-3.224e+05</td>\n",
       "</tr>\n",
       "<tr>\n",
       "  <th>Df Model:</th>              <td>     8</td>      <th>                     </th>      <td> </td>    \n",
       "</tr>\n",
       "<tr>\n",
       "  <th>Covariance Type:</th>      <td>nonrobust</td>    <th>                     </th>      <td> </td>    \n",
       "</tr>\n",
       "</table>\n",
       "<table class=\"simpletable\">\n",
       "<tr>\n",
       "        <td></td>          <th>coef</th>     <th>std err</th>      <th>t</th>      <th>P>|t|</th>  <th>[0.025</th>    <th>0.975]</th>  \n",
       "</tr>\n",
       "<tr>\n",
       "  <th>Intercept</th>    <td>   -0.3581</td> <td>    0.005</td> <td>  -69.007</td> <td> 0.000</td> <td>   -0.368</td> <td>   -0.348</td>\n",
       "</tr>\n",
       "<tr>\n",
       "  <th>pz</th>           <td>    0.0041</td> <td>    0.000</td> <td>   22.614</td> <td> 0.000</td> <td>    0.004</td> <td>    0.004</td>\n",
       "</tr>\n",
       "<tr>\n",
       "  <th>start_speed</th>  <td>    0.0023</td> <td>    0.000</td> <td>   12.685</td> <td> 0.000</td> <td>    0.002</td> <td>    0.003</td>\n",
       "</tr>\n",
       "<tr>\n",
       "  <th>end_speed</th>    <td>   -0.0013</td> <td>    0.000</td> <td>   -6.584</td> <td> 0.000</td> <td>   -0.002</td> <td>   -0.001</td>\n",
       "</tr>\n",
       "<tr>\n",
       "  <th>break_angle</th>  <td>-7.428e-05</td> <td> 6.76e-06</td> <td>  -10.987</td> <td> 0.000</td> <td>-8.75e-05</td> <td> -6.1e-05</td>\n",
       "</tr>\n",
       "<tr>\n",
       "  <th>break_length</th> <td>    0.0022</td> <td>    0.000</td> <td>   20.826</td> <td> 0.000</td> <td>    0.002</td> <td>    0.002</td>\n",
       "</tr>\n",
       "<tr>\n",
       "  <th>b_count</th>      <td>   -0.1160</td> <td>    0.000</td> <td> -281.088</td> <td> 0.000</td> <td>   -0.117</td> <td>   -0.115</td>\n",
       "</tr>\n",
       "<tr>\n",
       "  <th>s_count</th>      <td>    0.3348</td> <td>    0.000</td> <td>  723.226</td> <td> 0.000</td> <td>    0.334</td> <td>    0.336</td>\n",
       "</tr>\n",
       "<tr>\n",
       "  <th>pitch_num</th>    <td>    0.1148</td> <td>    0.000</td> <td>  329.012</td> <td> 0.000</td> <td>    0.114</td> <td>    0.115</td>\n",
       "</tr>\n",
       "</table>\n",
       "<table class=\"simpletable\">\n",
       "<tr>\n",
       "  <th>Omnibus:</th>       <td>76501486.245</td> <th>  Durbin-Watson:     </th>  <td>   1.997</td> \n",
       "</tr>\n",
       "<tr>\n",
       "  <th>Prob(Omnibus):</th>    <td> 0.000</td>    <th>  Jarque-Bera (JB):  </th> <td>305227.051</td>\n",
       "</tr>\n",
       "<tr>\n",
       "  <th>Skew:</th>             <td>-0.685</td>    <th>  Prob(JB):          </th>  <td>    0.00</td> \n",
       "</tr>\n",
       "<tr>\n",
       "  <th>Kurtosis:</th>         <td> 1.662</td>    <th>  Cond. No.          </th>  <td>3.97e+03</td> \n",
       "</tr>\n",
       "</table><br/><br/>Notes:<br/>[1] Standard Errors assume that the covariance matrix of the errors is correctly specified.<br/>[2] The condition number is large, 3.97e+03. This might indicate that there are<br/>strong multicollinearity or other numerical problems."
      ],
      "text/latex": [
       "\\begin{center}\n",
       "\\begin{tabular}{lclc}\n",
       "\\toprule\n",
       "\\textbf{Dep. Variable:}    &    strikeout     & \\textbf{  R-squared:         } &     0.757   \\\\\n",
       "\\textbf{Model:}            &       OLS        & \\textbf{  Adj. R-squared:    } &     0.757   \\\\\n",
       "\\textbf{Method:}           &  Least Squares   & \\textbf{  F-statistic:       } & 7.796e+05   \\\\\n",
       "\\textbf{Date:}             & Tue, 23 Jan 2024 & \\textbf{  Prob (F-statistic):} &     0.00    \\\\\n",
       "\\textbf{Time:}             &     00:19:43     & \\textbf{  Log-Likelihood:    } & 1.6127e+05  \\\\\n",
       "\\textbf{No. Observations:} &     1997066      & \\textbf{  AIC:               } & -3.225e+05  \\\\\n",
       "\\textbf{Df Residuals:}     &     1997057      & \\textbf{  BIC:               } & -3.224e+05  \\\\\n",
       "\\textbf{Df Model:}         &           8      & \\textbf{                     } &             \\\\\n",
       "\\textbf{Covariance Type:}  &    nonrobust     & \\textbf{                     } &             \\\\\n",
       "\\bottomrule\n",
       "\\end{tabular}\n",
       "\\begin{tabular}{lcccccc}\n",
       "                       & \\textbf{coef} & \\textbf{std err} & \\textbf{t} & \\textbf{P$> |$t$|$} & \\textbf{[0.025} & \\textbf{0.975]}  \\\\\n",
       "\\midrule\n",
       "\\textbf{Intercept}     &      -0.3581  &        0.005     &   -69.007  &         0.000        &       -0.368    &       -0.348     \\\\\n",
       "\\textbf{pz}            &       0.0041  &        0.000     &    22.614  &         0.000        &        0.004    &        0.004     \\\\\n",
       "\\textbf{start\\_speed}  &       0.0023  &        0.000     &    12.685  &         0.000        &        0.002    &        0.003     \\\\\n",
       "\\textbf{end\\_speed}    &      -0.0013  &        0.000     &    -6.584  &         0.000        &       -0.002    &       -0.001     \\\\\n",
       "\\textbf{break\\_angle}  &   -7.428e-05  &     6.76e-06     &   -10.987  &         0.000        &    -8.75e-05    &     -6.1e-05     \\\\\n",
       "\\textbf{break\\_length} &       0.0022  &        0.000     &    20.826  &         0.000        &        0.002    &        0.002     \\\\\n",
       "\\textbf{b\\_count}      &      -0.1160  &        0.000     &  -281.088  &         0.000        &       -0.117    &       -0.115     \\\\\n",
       "\\textbf{s\\_count}      &       0.3348  &        0.000     &   723.226  &         0.000        &        0.334    &        0.336     \\\\\n",
       "\\textbf{pitch\\_num}    &       0.1148  &        0.000     &   329.012  &         0.000        &        0.114    &        0.115     \\\\\n",
       "\\bottomrule\n",
       "\\end{tabular}\n",
       "\\begin{tabular}{lclc}\n",
       "\\textbf{Omnibus:}       & 76501486.245 & \\textbf{  Durbin-Watson:     } &     1.997   \\\\\n",
       "\\textbf{Prob(Omnibus):} &     0.000    & \\textbf{  Jarque-Bera (JB):  } & 305227.051  \\\\\n",
       "\\textbf{Skew:}          &    -0.685    & \\textbf{  Prob(JB):          } &      0.00   \\\\\n",
       "\\textbf{Kurtosis:}      &     1.662    & \\textbf{  Cond. No.          } &  3.97e+03   \\\\\n",
       "\\bottomrule\n",
       "\\end{tabular}\n",
       "%\\caption{OLS Regression Results}\n",
       "\\end{center}\n",
       "\n",
       "Notes: \\newline\n",
       " [1] Standard Errors assume that the covariance matrix of the errors is correctly specified. \\newline\n",
       " [2] The condition number is large, 3.97e+03. This might indicate that there are \\newline\n",
       " strong multicollinearity or other numerical problems."
      ],
      "text/plain": [
       "<class 'statsmodels.iolib.summary.Summary'>\n",
       "\"\"\"\n",
       "                            OLS Regression Results                            \n",
       "==============================================================================\n",
       "Dep. Variable:              strikeout   R-squared:                       0.757\n",
       "Model:                            OLS   Adj. R-squared:                  0.757\n",
       "Method:                 Least Squares   F-statistic:                 7.796e+05\n",
       "Date:                Tue, 23 Jan 2024   Prob (F-statistic):               0.00\n",
       "Time:                        00:19:43   Log-Likelihood:             1.6127e+05\n",
       "No. Observations:             1997066   AIC:                        -3.225e+05\n",
       "Df Residuals:                 1997057   BIC:                        -3.224e+05\n",
       "Df Model:                           8                                         \n",
       "Covariance Type:            nonrobust                                         \n",
       "================================================================================\n",
       "                   coef    std err          t      P>|t|      [0.025      0.975]\n",
       "--------------------------------------------------------------------------------\n",
       "Intercept       -0.3581      0.005    -69.007      0.000      -0.368      -0.348\n",
       "pz               0.0041      0.000     22.614      0.000       0.004       0.004\n",
       "start_speed      0.0023      0.000     12.685      0.000       0.002       0.003\n",
       "end_speed       -0.0013      0.000     -6.584      0.000      -0.002      -0.001\n",
       "break_angle  -7.428e-05   6.76e-06    -10.987      0.000   -8.75e-05    -6.1e-05\n",
       "break_length     0.0022      0.000     20.826      0.000       0.002       0.002\n",
       "b_count         -0.1160      0.000   -281.088      0.000      -0.117      -0.115\n",
       "s_count          0.3348      0.000    723.226      0.000       0.334       0.336\n",
       "pitch_num        0.1148      0.000    329.012      0.000       0.114       0.115\n",
       "==============================================================================\n",
       "Omnibus:                 76501486.245   Durbin-Watson:                   1.997\n",
       "Prob(Omnibus):                  0.000   Jarque-Bera (JB):           305227.051\n",
       "Skew:                          -0.685   Prob(JB):                         0.00\n",
       "Kurtosis:                       1.662   Cond. No.                     3.97e+03\n",
       "==============================================================================\n",
       "\n",
       "Notes:\n",
       "[1] Standard Errors assume that the covariance matrix of the errors is correctly specified.\n",
       "[2] The condition number is large, 3.97e+03. This might indicate that there are\n",
       "strong multicollinearity or other numerical problems.\n",
       "\"\"\""
      ]
     },
     "execution_count": 26,
     "metadata": {},
     "output_type": "execute_result"
    }
   ],
   "source": [
    "sm.OLS(y, x).fit().summary()"
   ]
  },
  {
   "cell_type": "code",
   "execution_count": 27,
   "id": "df8b8059",
   "metadata": {
    "execution": {
     "iopub.execute_input": "2024-01-23T00:19:43.406327Z",
     "iopub.status.busy": "2024-01-23T00:19:43.405959Z",
     "iopub.status.idle": "2024-01-23T00:19:43.409786Z",
     "shell.execute_reply": "2024-01-23T00:19:43.409116Z"
    },
    "papermill": {
     "duration": 0.021987,
     "end_time": "2024-01-23T00:19:43.412714",
     "exception": false,
     "start_time": "2024-01-23T00:19:43.390727",
     "status": "completed"
    },
    "tags": []
   },
   "outputs": [],
   "source": [
    "import numpy as np"
   ]
  },
  {
   "cell_type": "code",
   "execution_count": 28,
   "id": "172a63c7",
   "metadata": {
    "execution": {
     "iopub.execute_input": "2024-01-23T00:19:43.442457Z",
     "iopub.status.busy": "2024-01-23T00:19:43.441695Z",
     "iopub.status.idle": "2024-01-23T00:19:49.503502Z",
     "shell.execute_reply": "2024-01-23T00:19:49.502353Z"
    },
    "papermill": {
     "duration": 6.078775,
     "end_time": "2024-01-23T00:19:49.505814",
     "exception": false,
     "start_time": "2024-01-23T00:19:43.427039",
     "status": "completed"
    },
    "tags": []
   },
   "outputs": [],
   "source": [
    "# Retirando variáveis a partir do p-value\n",
    "y, x = patsy.dmatrices('strikeout ~ pitch_type + pz + start_speed + end_speed + break_angle + break_length  + b_count + s_count + pitch_num', data = df_treino)"
   ]
  },
  {
   "cell_type": "code",
   "execution_count": 29,
   "id": "b43a66e2",
   "metadata": {
    "execution": {
     "iopub.execute_input": "2024-01-23T00:19:49.528577Z",
     "iopub.status.busy": "2024-01-23T00:19:49.528221Z",
     "iopub.status.idle": "2024-01-23T00:19:52.107389Z",
     "shell.execute_reply": "2024-01-23T00:19:52.106708Z"
    },
    "papermill": {
     "duration": 2.592937,
     "end_time": "2024-01-23T00:19:52.109638",
     "exception": false,
     "start_time": "2024-01-23T00:19:49.516701",
     "status": "completed"
    },
    "tags": []
   },
   "outputs": [
    {
     "data": {
      "text/html": [
       "<table class=\"simpletable\">\n",
       "<caption>OLS Regression Results</caption>\n",
       "<tr>\n",
       "  <th>Dep. Variable:</th>        <td>strikeout</td>    <th>  R-squared:         </th>  <td>   0.758</td> \n",
       "</tr>\n",
       "<tr>\n",
       "  <th>Model:</th>                   <td>OLS</td>       <th>  Adj. R-squared:    </th>  <td>   0.758</td> \n",
       "</tr>\n",
       "<tr>\n",
       "  <th>Method:</th>             <td>Least Squares</td>  <th>  F-statistic:       </th>  <td>2.504e+05</td>\n",
       "</tr>\n",
       "<tr>\n",
       "  <th>Date:</th>             <td>Tue, 23 Jan 2024</td> <th>  Prob (F-statistic):</th>   <td>  0.00</td>  \n",
       "</tr>\n",
       "<tr>\n",
       "  <th>Time:</th>                 <td>00:19:52</td>     <th>  Log-Likelihood:    </th> <td>1.6403e+05</td>\n",
       "</tr>\n",
       "<tr>\n",
       "  <th>No. Observations:</th>      <td>1997066</td>     <th>  AIC:               </th> <td>-3.280e+05</td>\n",
       "</tr>\n",
       "<tr>\n",
       "  <th>Df Residuals:</th>          <td>1997040</td>     <th>  BIC:               </th> <td>-3.277e+05</td>\n",
       "</tr>\n",
       "<tr>\n",
       "  <th>Df Model:</th>              <td>    25</td>      <th>                     </th>      <td> </td>    \n",
       "</tr>\n",
       "<tr>\n",
       "  <th>Covariance Type:</th>      <td>nonrobust</td>    <th>                     </th>      <td> </td>    \n",
       "</tr>\n",
       "</table>\n",
       "<table class=\"simpletable\">\n",
       "<tr>\n",
       "          <td></td>            <th>coef</th>     <th>std err</th>      <th>t</th>      <th>P>|t|</th>  <th>[0.025</th>    <th>0.975]</th>  \n",
       "</tr>\n",
       "<tr>\n",
       "  <th>Intercept</th>        <td>   -0.1774</td> <td>    0.112</td> <td>   -1.590</td> <td> 0.112</td> <td>   -0.396</td> <td>    0.041</td>\n",
       "</tr>\n",
       "<tr>\n",
       "  <th>pitch_type[T.CH]</th> <td>   -0.1942</td> <td>    0.111</td> <td>   -1.743</td> <td> 0.081</td> <td>   -0.413</td> <td>    0.024</td>\n",
       "</tr>\n",
       "<tr>\n",
       "  <th>pitch_type[T.CU]</th> <td>   -0.1564</td> <td>    0.111</td> <td>   -1.403</td> <td> 0.161</td> <td>   -0.375</td> <td>    0.062</td>\n",
       "</tr>\n",
       "<tr>\n",
       "  <th>pitch_type[T.EP]</th> <td>   -0.1567</td> <td>    0.112</td> <td>   -1.401</td> <td> 0.161</td> <td>   -0.376</td> <td>    0.063</td>\n",
       "</tr>\n",
       "<tr>\n",
       "  <th>pitch_type[T.FA]</th> <td>   -0.2480</td> <td>    0.137</td> <td>   -1.817</td> <td> 0.069</td> <td>   -0.516</td> <td>    0.020</td>\n",
       "</tr>\n",
       "<tr>\n",
       "  <th>pitch_type[T.FC]</th> <td>   -0.1820</td> <td>    0.111</td> <td>   -1.633</td> <td> 0.103</td> <td>   -0.400</td> <td>    0.036</td>\n",
       "</tr>\n",
       "<tr>\n",
       "  <th>pitch_type[T.FF]</th> <td>   -0.1646</td> <td>    0.111</td> <td>   -1.476</td> <td> 0.140</td> <td>   -0.383</td> <td>    0.054</td>\n",
       "</tr>\n",
       "<tr>\n",
       "  <th>pitch_type[T.FO]</th> <td>   -0.1655</td> <td>    0.112</td> <td>   -1.479</td> <td> 0.139</td> <td>   -0.385</td> <td>    0.054</td>\n",
       "</tr>\n",
       "<tr>\n",
       "  <th>pitch_type[T.FS]</th> <td>   -0.1771</td> <td>    0.111</td> <td>   -1.589</td> <td> 0.112</td> <td>   -0.396</td> <td>    0.041</td>\n",
       "</tr>\n",
       "<tr>\n",
       "  <th>pitch_type[T.FT]</th> <td>   -0.1782</td> <td>    0.111</td> <td>   -1.599</td> <td> 0.110</td> <td>   -0.397</td> <td>    0.040</td>\n",
       "</tr>\n",
       "<tr>\n",
       "  <th>pitch_type[T.IN]</th> <td>   -0.0519</td> <td>    0.112</td> <td>   -0.465</td> <td> 0.642</td> <td>   -0.270</td> <td>    0.167</td>\n",
       "</tr>\n",
       "<tr>\n",
       "  <th>pitch_type[T.KC]</th> <td>   -0.1659</td> <td>    0.111</td> <td>   -1.488</td> <td> 0.137</td> <td>   -0.384</td> <td>    0.053</td>\n",
       "</tr>\n",
       "<tr>\n",
       "  <th>pitch_type[T.KN]</th> <td>   -0.1677</td> <td>    0.111</td> <td>   -1.505</td> <td> 0.132</td> <td>   -0.386</td> <td>    0.051</td>\n",
       "</tr>\n",
       "<tr>\n",
       "  <th>pitch_type[T.PO]</th> <td>   -0.1658</td> <td>    0.112</td> <td>   -1.481</td> <td> 0.139</td> <td>   -0.385</td> <td>    0.054</td>\n",
       "</tr>\n",
       "<tr>\n",
       "  <th>pitch_type[T.SC]</th> <td>   -0.1396</td> <td>    0.114</td> <td>   -1.222</td> <td> 0.222</td> <td>   -0.363</td> <td>    0.084</td>\n",
       "</tr>\n",
       "<tr>\n",
       "  <th>pitch_type[T.SI]</th> <td>   -0.1747</td> <td>    0.111</td> <td>   -1.567</td> <td> 0.117</td> <td>   -0.393</td> <td>    0.044</td>\n",
       "</tr>\n",
       "<tr>\n",
       "  <th>pitch_type[T.SL]</th> <td>   -0.1633</td> <td>    0.111</td> <td>   -1.465</td> <td> 0.143</td> <td>   -0.382</td> <td>    0.055</td>\n",
       "</tr>\n",
       "<tr>\n",
       "  <th>pitch_type[T.UN]</th> <td>   -0.0615</td> <td>    0.117</td> <td>   -0.526</td> <td> 0.599</td> <td>   -0.290</td> <td>    0.167</td>\n",
       "</tr>\n",
       "<tr>\n",
       "  <th>pz</th>               <td>    0.0021</td> <td>    0.000</td> <td>   11.298</td> <td> 0.000</td> <td>    0.002</td> <td>    0.002</td>\n",
       "</tr>\n",
       "<tr>\n",
       "  <th>start_speed</th>      <td>    0.0021</td> <td>    0.000</td> <td>   11.287</td> <td> 0.000</td> <td>    0.002</td> <td>    0.003</td>\n",
       "</tr>\n",
       "<tr>\n",
       "  <th>end_speed</th>        <td>   -0.0012</td> <td>    0.000</td> <td>   -5.817</td> <td> 0.000</td> <td>   -0.002</td> <td>   -0.001</td>\n",
       "</tr>\n",
       "<tr>\n",
       "  <th>break_angle</th>      <td>-4.602e-05</td> <td> 6.88e-06</td> <td>   -6.687</td> <td> 0.000</td> <td>-5.95e-05</td> <td>-3.25e-05</td>\n",
       "</tr>\n",
       "<tr>\n",
       "  <th>break_length</th>     <td>    0.0017</td> <td>    0.000</td> <td>   11.547</td> <td> 0.000</td> <td>    0.001</td> <td>    0.002</td>\n",
       "</tr>\n",
       "<tr>\n",
       "  <th>b_count</th>          <td>   -0.1159</td> <td>    0.000</td> <td> -280.903</td> <td> 0.000</td> <td>   -0.117</td> <td>   -0.115</td>\n",
       "</tr>\n",
       "<tr>\n",
       "  <th>s_count</th>          <td>    0.3348</td> <td>    0.000</td> <td>  722.762</td> <td> 0.000</td> <td>    0.334</td> <td>    0.336</td>\n",
       "</tr>\n",
       "<tr>\n",
       "  <th>pitch_num</th>        <td>    0.1148</td> <td>    0.000</td> <td>  329.492</td> <td> 0.000</td> <td>    0.114</td> <td>    0.115</td>\n",
       "</tr>\n",
       "</table>\n",
       "<table class=\"simpletable\">\n",
       "<tr>\n",
       "  <th>Omnibus:</th>       <td>100777509.091</td> <th>  Durbin-Watson:     </th>  <td>   1.997</td> \n",
       "</tr>\n",
       "<tr>\n",
       "  <th>Prob(Omnibus):</th>    <td> 0.000</td>     <th>  Jarque-Bera (JB):  </th> <td>302586.560</td>\n",
       "</tr>\n",
       "<tr>\n",
       "  <th>Skew:</th>             <td>-0.682</td>     <th>  Prob(JB):          </th>  <td>    0.00</td> \n",
       "</tr>\n",
       "<tr>\n",
       "  <th>Kurtosis:</th>         <td> 1.668</td>     <th>  Cond. No.          </th>  <td>3.63e+05</td> \n",
       "</tr>\n",
       "</table><br/><br/>Notes:<br/>[1] Standard Errors assume that the covariance matrix of the errors is correctly specified.<br/>[2] The condition number is large, 3.63e+05. This might indicate that there are<br/>strong multicollinearity or other numerical problems."
      ],
      "text/latex": [
       "\\begin{center}\n",
       "\\begin{tabular}{lclc}\n",
       "\\toprule\n",
       "\\textbf{Dep. Variable:}    &    strikeout     & \\textbf{  R-squared:         } &     0.758   \\\\\n",
       "\\textbf{Model:}            &       OLS        & \\textbf{  Adj. R-squared:    } &     0.758   \\\\\n",
       "\\textbf{Method:}           &  Least Squares   & \\textbf{  F-statistic:       } & 2.504e+05   \\\\\n",
       "\\textbf{Date:}             & Tue, 23 Jan 2024 & \\textbf{  Prob (F-statistic):} &     0.00    \\\\\n",
       "\\textbf{Time:}             &     00:19:52     & \\textbf{  Log-Likelihood:    } & 1.6403e+05  \\\\\n",
       "\\textbf{No. Observations:} &     1997066      & \\textbf{  AIC:               } & -3.280e+05  \\\\\n",
       "\\textbf{Df Residuals:}     &     1997040      & \\textbf{  BIC:               } & -3.277e+05  \\\\\n",
       "\\textbf{Df Model:}         &          25      & \\textbf{                     } &             \\\\\n",
       "\\textbf{Covariance Type:}  &    nonrobust     & \\textbf{                     } &             \\\\\n",
       "\\bottomrule\n",
       "\\end{tabular}\n",
       "\\begin{tabular}{lcccccc}\n",
       "                           & \\textbf{coef} & \\textbf{std err} & \\textbf{t} & \\textbf{P$> |$t$|$} & \\textbf{[0.025} & \\textbf{0.975]}  \\\\\n",
       "\\midrule\n",
       "\\textbf{Intercept}         &      -0.1774  &        0.112     &    -1.590  &         0.112        &       -0.396    &        0.041     \\\\\n",
       "\\textbf{pitch\\_type[T.CH]} &      -0.1942  &        0.111     &    -1.743  &         0.081        &       -0.413    &        0.024     \\\\\n",
       "\\textbf{pitch\\_type[T.CU]} &      -0.1564  &        0.111     &    -1.403  &         0.161        &       -0.375    &        0.062     \\\\\n",
       "\\textbf{pitch\\_type[T.EP]} &      -0.1567  &        0.112     &    -1.401  &         0.161        &       -0.376    &        0.063     \\\\\n",
       "\\textbf{pitch\\_type[T.FA]} &      -0.2480  &        0.137     &    -1.817  &         0.069        &       -0.516    &        0.020     \\\\\n",
       "\\textbf{pitch\\_type[T.FC]} &      -0.1820  &        0.111     &    -1.633  &         0.103        &       -0.400    &        0.036     \\\\\n",
       "\\textbf{pitch\\_type[T.FF]} &      -0.1646  &        0.111     &    -1.476  &         0.140        &       -0.383    &        0.054     \\\\\n",
       "\\textbf{pitch\\_type[T.FO]} &      -0.1655  &        0.112     &    -1.479  &         0.139        &       -0.385    &        0.054     \\\\\n",
       "\\textbf{pitch\\_type[T.FS]} &      -0.1771  &        0.111     &    -1.589  &         0.112        &       -0.396    &        0.041     \\\\\n",
       "\\textbf{pitch\\_type[T.FT]} &      -0.1782  &        0.111     &    -1.599  &         0.110        &       -0.397    &        0.040     \\\\\n",
       "\\textbf{pitch\\_type[T.IN]} &      -0.0519  &        0.112     &    -0.465  &         0.642        &       -0.270    &        0.167     \\\\\n",
       "\\textbf{pitch\\_type[T.KC]} &      -0.1659  &        0.111     &    -1.488  &         0.137        &       -0.384    &        0.053     \\\\\n",
       "\\textbf{pitch\\_type[T.KN]} &      -0.1677  &        0.111     &    -1.505  &         0.132        &       -0.386    &        0.051     \\\\\n",
       "\\textbf{pitch\\_type[T.PO]} &      -0.1658  &        0.112     &    -1.481  &         0.139        &       -0.385    &        0.054     \\\\\n",
       "\\textbf{pitch\\_type[T.SC]} &      -0.1396  &        0.114     &    -1.222  &         0.222        &       -0.363    &        0.084     \\\\\n",
       "\\textbf{pitch\\_type[T.SI]} &      -0.1747  &        0.111     &    -1.567  &         0.117        &       -0.393    &        0.044     \\\\\n",
       "\\textbf{pitch\\_type[T.SL]} &      -0.1633  &        0.111     &    -1.465  &         0.143        &       -0.382    &        0.055     \\\\\n",
       "\\textbf{pitch\\_type[T.UN]} &      -0.0615  &        0.117     &    -0.526  &         0.599        &       -0.290    &        0.167     \\\\\n",
       "\\textbf{pz}                &       0.0021  &        0.000     &    11.298  &         0.000        &        0.002    &        0.002     \\\\\n",
       "\\textbf{start\\_speed}      &       0.0021  &        0.000     &    11.287  &         0.000        &        0.002    &        0.003     \\\\\n",
       "\\textbf{end\\_speed}        &      -0.0012  &        0.000     &    -5.817  &         0.000        &       -0.002    &       -0.001     \\\\\n",
       "\\textbf{break\\_angle}      &   -4.602e-05  &     6.88e-06     &    -6.687  &         0.000        &    -5.95e-05    &    -3.25e-05     \\\\\n",
       "\\textbf{break\\_length}     &       0.0017  &        0.000     &    11.547  &         0.000        &        0.001    &        0.002     \\\\\n",
       "\\textbf{b\\_count}          &      -0.1159  &        0.000     &  -280.903  &         0.000        &       -0.117    &       -0.115     \\\\\n",
       "\\textbf{s\\_count}          &       0.3348  &        0.000     &   722.762  &         0.000        &        0.334    &        0.336     \\\\\n",
       "\\textbf{pitch\\_num}        &       0.1148  &        0.000     &   329.492  &         0.000        &        0.114    &        0.115     \\\\\n",
       "\\bottomrule\n",
       "\\end{tabular}\n",
       "\\begin{tabular}{lclc}\n",
       "\\textbf{Omnibus:}       & 100777509.091 & \\textbf{  Durbin-Watson:     } &     1.997   \\\\\n",
       "\\textbf{Prob(Omnibus):} &      0.000    & \\textbf{  Jarque-Bera (JB):  } & 302586.560  \\\\\n",
       "\\textbf{Skew:}          &     -0.682    & \\textbf{  Prob(JB):          } &      0.00   \\\\\n",
       "\\textbf{Kurtosis:}      &      1.668    & \\textbf{  Cond. No.          } &  3.63e+05   \\\\\n",
       "\\bottomrule\n",
       "\\end{tabular}\n",
       "%\\caption{OLS Regression Results}\n",
       "\\end{center}\n",
       "\n",
       "Notes: \\newline\n",
       " [1] Standard Errors assume that the covariance matrix of the errors is correctly specified. \\newline\n",
       " [2] The condition number is large, 3.63e+05. This might indicate that there are \\newline\n",
       " strong multicollinearity or other numerical problems."
      ],
      "text/plain": [
       "<class 'statsmodels.iolib.summary.Summary'>\n",
       "\"\"\"\n",
       "                            OLS Regression Results                            \n",
       "==============================================================================\n",
       "Dep. Variable:              strikeout   R-squared:                       0.758\n",
       "Model:                            OLS   Adj. R-squared:                  0.758\n",
       "Method:                 Least Squares   F-statistic:                 2.504e+05\n",
       "Date:                Tue, 23 Jan 2024   Prob (F-statistic):               0.00\n",
       "Time:                        00:19:52   Log-Likelihood:             1.6403e+05\n",
       "No. Observations:             1997066   AIC:                        -3.280e+05\n",
       "Df Residuals:                 1997040   BIC:                        -3.277e+05\n",
       "Df Model:                          25                                         \n",
       "Covariance Type:            nonrobust                                         \n",
       "====================================================================================\n",
       "                       coef    std err          t      P>|t|      [0.025      0.975]\n",
       "------------------------------------------------------------------------------------\n",
       "Intercept           -0.1774      0.112     -1.590      0.112      -0.396       0.041\n",
       "pitch_type[T.CH]    -0.1942      0.111     -1.743      0.081      -0.413       0.024\n",
       "pitch_type[T.CU]    -0.1564      0.111     -1.403      0.161      -0.375       0.062\n",
       "pitch_type[T.EP]    -0.1567      0.112     -1.401      0.161      -0.376       0.063\n",
       "pitch_type[T.FA]    -0.2480      0.137     -1.817      0.069      -0.516       0.020\n",
       "pitch_type[T.FC]    -0.1820      0.111     -1.633      0.103      -0.400       0.036\n",
       "pitch_type[T.FF]    -0.1646      0.111     -1.476      0.140      -0.383       0.054\n",
       "pitch_type[T.FO]    -0.1655      0.112     -1.479      0.139      -0.385       0.054\n",
       "pitch_type[T.FS]    -0.1771      0.111     -1.589      0.112      -0.396       0.041\n",
       "pitch_type[T.FT]    -0.1782      0.111     -1.599      0.110      -0.397       0.040\n",
       "pitch_type[T.IN]    -0.0519      0.112     -0.465      0.642      -0.270       0.167\n",
       "pitch_type[T.KC]    -0.1659      0.111     -1.488      0.137      -0.384       0.053\n",
       "pitch_type[T.KN]    -0.1677      0.111     -1.505      0.132      -0.386       0.051\n",
       "pitch_type[T.PO]    -0.1658      0.112     -1.481      0.139      -0.385       0.054\n",
       "pitch_type[T.SC]    -0.1396      0.114     -1.222      0.222      -0.363       0.084\n",
       "pitch_type[T.SI]    -0.1747      0.111     -1.567      0.117      -0.393       0.044\n",
       "pitch_type[T.SL]    -0.1633      0.111     -1.465      0.143      -0.382       0.055\n",
       "pitch_type[T.UN]    -0.0615      0.117     -0.526      0.599      -0.290       0.167\n",
       "pz                   0.0021      0.000     11.298      0.000       0.002       0.002\n",
       "start_speed          0.0021      0.000     11.287      0.000       0.002       0.003\n",
       "end_speed           -0.0012      0.000     -5.817      0.000      -0.002      -0.001\n",
       "break_angle      -4.602e-05   6.88e-06     -6.687      0.000   -5.95e-05   -3.25e-05\n",
       "break_length         0.0017      0.000     11.547      0.000       0.001       0.002\n",
       "b_count             -0.1159      0.000   -280.903      0.000      -0.117      -0.115\n",
       "s_count              0.3348      0.000    722.762      0.000       0.334       0.336\n",
       "pitch_num            0.1148      0.000    329.492      0.000       0.114       0.115\n",
       "==============================================================================\n",
       "Omnibus:                100777509.091   Durbin-Watson:                   1.997\n",
       "Prob(Omnibus):                  0.000   Jarque-Bera (JB):           302586.560\n",
       "Skew:                          -0.682   Prob(JB):                         0.00\n",
       "Kurtosis:                       1.668   Cond. No.                     3.63e+05\n",
       "==============================================================================\n",
       "\n",
       "Notes:\n",
       "[1] Standard Errors assume that the covariance matrix of the errors is correctly specified.\n",
       "[2] The condition number is large, 3.63e+05. This might indicate that there are\n",
       "strong multicollinearity or other numerical problems.\n",
       "\"\"\""
      ]
     },
     "execution_count": 29,
     "metadata": {},
     "output_type": "execute_result"
    }
   ],
   "source": [
    "sm.OLS(y, x).fit().summary()"
   ]
  },
  {
   "cell_type": "code",
   "execution_count": 30,
   "id": "796c6d5b",
   "metadata": {
    "execution": {
     "iopub.execute_input": "2024-01-23T00:19:52.141016Z",
     "iopub.status.busy": "2024-01-23T00:19:52.139912Z",
     "iopub.status.idle": "2024-01-23T00:20:01.103261Z",
     "shell.execute_reply": "2024-01-23T00:20:01.102561Z"
    },
    "papermill": {
     "duration": 8.980887,
     "end_time": "2024-01-23T00:20:01.105306",
     "exception": false,
     "start_time": "2024-01-23T00:19:52.124419",
     "status": "completed"
    },
    "tags": []
   },
   "outputs": [
    {
     "data": {
      "text/html": [
       "<table class=\"simpletable\">\n",
       "<caption>OLS Regression Results</caption>\n",
       "<tr>\n",
       "  <th>Dep. Variable:</th>        <td>strikeout</td>    <th>  R-squared:         </th>  <td>   0.758</td> \n",
       "</tr>\n",
       "<tr>\n",
       "  <th>Model:</th>                   <td>OLS</td>       <th>  Adj. R-squared:    </th>  <td>   0.758</td> \n",
       "</tr>\n",
       "<tr>\n",
       "  <th>Method:</th>             <td>Least Squares</td>  <th>  F-statistic:       </th>  <td>2.504e+05</td>\n",
       "</tr>\n",
       "<tr>\n",
       "  <th>Date:</th>             <td>Tue, 23 Jan 2024</td> <th>  Prob (F-statistic):</th>   <td>  0.00</td>  \n",
       "</tr>\n",
       "<tr>\n",
       "  <th>Time:</th>                 <td>00:20:01</td>     <th>  Log-Likelihood:    </th> <td>1.6403e+05</td>\n",
       "</tr>\n",
       "<tr>\n",
       "  <th>No. Observations:</th>      <td>1997066</td>     <th>  AIC:               </th> <td>-3.280e+05</td>\n",
       "</tr>\n",
       "<tr>\n",
       "  <th>Df Residuals:</th>          <td>1997040</td>     <th>  BIC:               </th> <td>-3.277e+05</td>\n",
       "</tr>\n",
       "<tr>\n",
       "  <th>Df Model:</th>              <td>    25</td>      <th>                     </th>      <td> </td>    \n",
       "</tr>\n",
       "<tr>\n",
       "  <th>Covariance Type:</th>      <td>nonrobust</td>    <th>                     </th>      <td> </td>    \n",
       "</tr>\n",
       "</table>\n",
       "<table class=\"simpletable\">\n",
       "<tr>\n",
       "          <td></td>            <th>coef</th>     <th>std err</th>      <th>t</th>      <th>P>|t|</th>  <th>[0.025</th>    <th>0.975]</th>  \n",
       "</tr>\n",
       "<tr>\n",
       "  <th>Intercept</th>        <td>   -0.1774</td> <td>    0.112</td> <td>   -1.590</td> <td> 0.112</td> <td>   -0.396</td> <td>    0.041</td>\n",
       "</tr>\n",
       "<tr>\n",
       "  <th>pitch_type[T.CH]</th> <td>   -0.1942</td> <td>    0.111</td> <td>   -1.743</td> <td> 0.081</td> <td>   -0.413</td> <td>    0.024</td>\n",
       "</tr>\n",
       "<tr>\n",
       "  <th>pitch_type[T.CU]</th> <td>   -0.1564</td> <td>    0.111</td> <td>   -1.403</td> <td> 0.161</td> <td>   -0.375</td> <td>    0.062</td>\n",
       "</tr>\n",
       "<tr>\n",
       "  <th>pitch_type[T.EP]</th> <td>   -0.1567</td> <td>    0.112</td> <td>   -1.401</td> <td> 0.161</td> <td>   -0.376</td> <td>    0.063</td>\n",
       "</tr>\n",
       "<tr>\n",
       "  <th>pitch_type[T.FA]</th> <td>   -0.2480</td> <td>    0.137</td> <td>   -1.817</td> <td> 0.069</td> <td>   -0.516</td> <td>    0.020</td>\n",
       "</tr>\n",
       "<tr>\n",
       "  <th>pitch_type[T.FC]</th> <td>   -0.1820</td> <td>    0.111</td> <td>   -1.633</td> <td> 0.103</td> <td>   -0.400</td> <td>    0.036</td>\n",
       "</tr>\n",
       "<tr>\n",
       "  <th>pitch_type[T.FF]</th> <td>   -0.1646</td> <td>    0.111</td> <td>   -1.476</td> <td> 0.140</td> <td>   -0.383</td> <td>    0.054</td>\n",
       "</tr>\n",
       "<tr>\n",
       "  <th>pitch_type[T.FO]</th> <td>   -0.1655</td> <td>    0.112</td> <td>   -1.479</td> <td> 0.139</td> <td>   -0.385</td> <td>    0.054</td>\n",
       "</tr>\n",
       "<tr>\n",
       "  <th>pitch_type[T.FS]</th> <td>   -0.1771</td> <td>    0.111</td> <td>   -1.589</td> <td> 0.112</td> <td>   -0.396</td> <td>    0.041</td>\n",
       "</tr>\n",
       "<tr>\n",
       "  <th>pitch_type[T.FT]</th> <td>   -0.1782</td> <td>    0.111</td> <td>   -1.599</td> <td> 0.110</td> <td>   -0.397</td> <td>    0.040</td>\n",
       "</tr>\n",
       "<tr>\n",
       "  <th>pitch_type[T.IN]</th> <td>   -0.0519</td> <td>    0.112</td> <td>   -0.465</td> <td> 0.642</td> <td>   -0.270</td> <td>    0.167</td>\n",
       "</tr>\n",
       "<tr>\n",
       "  <th>pitch_type[T.KC]</th> <td>   -0.1659</td> <td>    0.111</td> <td>   -1.488</td> <td> 0.137</td> <td>   -0.384</td> <td>    0.053</td>\n",
       "</tr>\n",
       "<tr>\n",
       "  <th>pitch_type[T.KN]</th> <td>   -0.1677</td> <td>    0.111</td> <td>   -1.505</td> <td> 0.132</td> <td>   -0.386</td> <td>    0.051</td>\n",
       "</tr>\n",
       "<tr>\n",
       "  <th>pitch_type[T.PO]</th> <td>   -0.1658</td> <td>    0.112</td> <td>   -1.481</td> <td> 0.139</td> <td>   -0.385</td> <td>    0.054</td>\n",
       "</tr>\n",
       "<tr>\n",
       "  <th>pitch_type[T.SC]</th> <td>   -0.1396</td> <td>    0.114</td> <td>   -1.222</td> <td> 0.222</td> <td>   -0.363</td> <td>    0.084</td>\n",
       "</tr>\n",
       "<tr>\n",
       "  <th>pitch_type[T.SI]</th> <td>   -0.1747</td> <td>    0.111</td> <td>   -1.567</td> <td> 0.117</td> <td>   -0.393</td> <td>    0.044</td>\n",
       "</tr>\n",
       "<tr>\n",
       "  <th>pitch_type[T.SL]</th> <td>   -0.1633</td> <td>    0.111</td> <td>   -1.465</td> <td> 0.143</td> <td>   -0.382</td> <td>    0.055</td>\n",
       "</tr>\n",
       "<tr>\n",
       "  <th>pitch_type[T.UN]</th> <td>   -0.0615</td> <td>    0.117</td> <td>   -0.526</td> <td> 0.599</td> <td>   -0.290</td> <td>    0.167</td>\n",
       "</tr>\n",
       "<tr>\n",
       "  <th>pz</th>               <td>    0.0021</td> <td>    0.000</td> <td>   11.298</td> <td> 0.000</td> <td>    0.002</td> <td>    0.002</td>\n",
       "</tr>\n",
       "<tr>\n",
       "  <th>start_speed</th>      <td>    0.0021</td> <td>    0.000</td> <td>   11.287</td> <td> 0.000</td> <td>    0.002</td> <td>    0.003</td>\n",
       "</tr>\n",
       "<tr>\n",
       "  <th>end_speed</th>        <td>   -0.0012</td> <td>    0.000</td> <td>   -5.817</td> <td> 0.000</td> <td>   -0.002</td> <td>   -0.001</td>\n",
       "</tr>\n",
       "<tr>\n",
       "  <th>break_angle</th>      <td>-4.602e-05</td> <td> 6.88e-06</td> <td>   -6.687</td> <td> 0.000</td> <td>-5.95e-05</td> <td>-3.25e-05</td>\n",
       "</tr>\n",
       "<tr>\n",
       "  <th>break_length</th>     <td>    0.0017</td> <td>    0.000</td> <td>   11.547</td> <td> 0.000</td> <td>    0.001</td> <td>    0.002</td>\n",
       "</tr>\n",
       "<tr>\n",
       "  <th>b_count</th>          <td>   -0.1159</td> <td>    0.000</td> <td> -280.903</td> <td> 0.000</td> <td>   -0.117</td> <td>   -0.115</td>\n",
       "</tr>\n",
       "<tr>\n",
       "  <th>s_count</th>          <td>    0.3348</td> <td>    0.000</td> <td>  722.762</td> <td> 0.000</td> <td>    0.334</td> <td>    0.336</td>\n",
       "</tr>\n",
       "<tr>\n",
       "  <th>pitch_num</th>        <td>    0.1148</td> <td>    0.000</td> <td>  329.492</td> <td> 0.000</td> <td>    0.114</td> <td>    0.115</td>\n",
       "</tr>\n",
       "</table>\n",
       "<table class=\"simpletable\">\n",
       "<tr>\n",
       "  <th>Omnibus:</th>       <td>100777509.091</td> <th>  Durbin-Watson:     </th>  <td>   1.997</td> \n",
       "</tr>\n",
       "<tr>\n",
       "  <th>Prob(Omnibus):</th>    <td> 0.000</td>     <th>  Jarque-Bera (JB):  </th> <td>302586.560</td>\n",
       "</tr>\n",
       "<tr>\n",
       "  <th>Skew:</th>             <td>-0.682</td>     <th>  Prob(JB):          </th>  <td>    0.00</td> \n",
       "</tr>\n",
       "<tr>\n",
       "  <th>Kurtosis:</th>         <td> 1.668</td>     <th>  Cond. No.          </th>  <td>3.63e+05</td> \n",
       "</tr>\n",
       "</table><br/><br/>Notes:<br/>[1] Standard Errors assume that the covariance matrix of the errors is correctly specified.<br/>[2] The condition number is large, 3.63e+05. This might indicate that there are<br/>strong multicollinearity or other numerical problems."
      ],
      "text/latex": [
       "\\begin{center}\n",
       "\\begin{tabular}{lclc}\n",
       "\\toprule\n",
       "\\textbf{Dep. Variable:}    &    strikeout     & \\textbf{  R-squared:         } &     0.758   \\\\\n",
       "\\textbf{Model:}            &       OLS        & \\textbf{  Adj. R-squared:    } &     0.758   \\\\\n",
       "\\textbf{Method:}           &  Least Squares   & \\textbf{  F-statistic:       } & 2.504e+05   \\\\\n",
       "\\textbf{Date:}             & Tue, 23 Jan 2024 & \\textbf{  Prob (F-statistic):} &     0.00    \\\\\n",
       "\\textbf{Time:}             &     00:20:01     & \\textbf{  Log-Likelihood:    } & 1.6403e+05  \\\\\n",
       "\\textbf{No. Observations:} &     1997066      & \\textbf{  AIC:               } & -3.280e+05  \\\\\n",
       "\\textbf{Df Residuals:}     &     1997040      & \\textbf{  BIC:               } & -3.277e+05  \\\\\n",
       "\\textbf{Df Model:}         &          25      & \\textbf{                     } &             \\\\\n",
       "\\textbf{Covariance Type:}  &    nonrobust     & \\textbf{                     } &             \\\\\n",
       "\\bottomrule\n",
       "\\end{tabular}\n",
       "\\begin{tabular}{lcccccc}\n",
       "                           & \\textbf{coef} & \\textbf{std err} & \\textbf{t} & \\textbf{P$> |$t$|$} & \\textbf{[0.025} & \\textbf{0.975]}  \\\\\n",
       "\\midrule\n",
       "\\textbf{Intercept}         &      -0.1774  &        0.112     &    -1.590  &         0.112        &       -0.396    &        0.041     \\\\\n",
       "\\textbf{pitch\\_type[T.CH]} &      -0.1942  &        0.111     &    -1.743  &         0.081        &       -0.413    &        0.024     \\\\\n",
       "\\textbf{pitch\\_type[T.CU]} &      -0.1564  &        0.111     &    -1.403  &         0.161        &       -0.375    &        0.062     \\\\\n",
       "\\textbf{pitch\\_type[T.EP]} &      -0.1567  &        0.112     &    -1.401  &         0.161        &       -0.376    &        0.063     \\\\\n",
       "\\textbf{pitch\\_type[T.FA]} &      -0.2480  &        0.137     &    -1.817  &         0.069        &       -0.516    &        0.020     \\\\\n",
       "\\textbf{pitch\\_type[T.FC]} &      -0.1820  &        0.111     &    -1.633  &         0.103        &       -0.400    &        0.036     \\\\\n",
       "\\textbf{pitch\\_type[T.FF]} &      -0.1646  &        0.111     &    -1.476  &         0.140        &       -0.383    &        0.054     \\\\\n",
       "\\textbf{pitch\\_type[T.FO]} &      -0.1655  &        0.112     &    -1.479  &         0.139        &       -0.385    &        0.054     \\\\\n",
       "\\textbf{pitch\\_type[T.FS]} &      -0.1771  &        0.111     &    -1.589  &         0.112        &       -0.396    &        0.041     \\\\\n",
       "\\textbf{pitch\\_type[T.FT]} &      -0.1782  &        0.111     &    -1.599  &         0.110        &       -0.397    &        0.040     \\\\\n",
       "\\textbf{pitch\\_type[T.IN]} &      -0.0519  &        0.112     &    -0.465  &         0.642        &       -0.270    &        0.167     \\\\\n",
       "\\textbf{pitch\\_type[T.KC]} &      -0.1659  &        0.111     &    -1.488  &         0.137        &       -0.384    &        0.053     \\\\\n",
       "\\textbf{pitch\\_type[T.KN]} &      -0.1677  &        0.111     &    -1.505  &         0.132        &       -0.386    &        0.051     \\\\\n",
       "\\textbf{pitch\\_type[T.PO]} &      -0.1658  &        0.112     &    -1.481  &         0.139        &       -0.385    &        0.054     \\\\\n",
       "\\textbf{pitch\\_type[T.SC]} &      -0.1396  &        0.114     &    -1.222  &         0.222        &       -0.363    &        0.084     \\\\\n",
       "\\textbf{pitch\\_type[T.SI]} &      -0.1747  &        0.111     &    -1.567  &         0.117        &       -0.393    &        0.044     \\\\\n",
       "\\textbf{pitch\\_type[T.SL]} &      -0.1633  &        0.111     &    -1.465  &         0.143        &       -0.382    &        0.055     \\\\\n",
       "\\textbf{pitch\\_type[T.UN]} &      -0.0615  &        0.117     &    -0.526  &         0.599        &       -0.290    &        0.167     \\\\\n",
       "\\textbf{pz}                &       0.0021  &        0.000     &    11.298  &         0.000        &        0.002    &        0.002     \\\\\n",
       "\\textbf{start\\_speed}      &       0.0021  &        0.000     &    11.287  &         0.000        &        0.002    &        0.003     \\\\\n",
       "\\textbf{end\\_speed}        &      -0.0012  &        0.000     &    -5.817  &         0.000        &       -0.002    &       -0.001     \\\\\n",
       "\\textbf{break\\_angle}      &   -4.602e-05  &     6.88e-06     &    -6.687  &         0.000        &    -5.95e-05    &    -3.25e-05     \\\\\n",
       "\\textbf{break\\_length}     &       0.0017  &        0.000     &    11.547  &         0.000        &        0.001    &        0.002     \\\\\n",
       "\\textbf{b\\_count}          &      -0.1159  &        0.000     &  -280.903  &         0.000        &       -0.117    &       -0.115     \\\\\n",
       "\\textbf{s\\_count}          &       0.3348  &        0.000     &   722.762  &         0.000        &        0.334    &        0.336     \\\\\n",
       "\\textbf{pitch\\_num}        &       0.1148  &        0.000     &   329.492  &         0.000        &        0.114    &        0.115     \\\\\n",
       "\\bottomrule\n",
       "\\end{tabular}\n",
       "\\begin{tabular}{lclc}\n",
       "\\textbf{Omnibus:}       & 100777509.091 & \\textbf{  Durbin-Watson:     } &     1.997   \\\\\n",
       "\\textbf{Prob(Omnibus):} &      0.000    & \\textbf{  Jarque-Bera (JB):  } & 302586.560  \\\\\n",
       "\\textbf{Skew:}          &     -0.682    & \\textbf{  Prob(JB):          } &      0.00   \\\\\n",
       "\\textbf{Kurtosis:}      &      1.668    & \\textbf{  Cond. No.          } &  3.63e+05   \\\\\n",
       "\\bottomrule\n",
       "\\end{tabular}\n",
       "%\\caption{OLS Regression Results}\n",
       "\\end{center}\n",
       "\n",
       "Notes: \\newline\n",
       " [1] Standard Errors assume that the covariance matrix of the errors is correctly specified. \\newline\n",
       " [2] The condition number is large, 3.63e+05. This might indicate that there are \\newline\n",
       " strong multicollinearity or other numerical problems."
      ],
      "text/plain": [
       "<class 'statsmodels.iolib.summary.Summary'>\n",
       "\"\"\"\n",
       "                            OLS Regression Results                            \n",
       "==============================================================================\n",
       "Dep. Variable:              strikeout   R-squared:                       0.758\n",
       "Model:                            OLS   Adj. R-squared:                  0.758\n",
       "Method:                 Least Squares   F-statistic:                 2.504e+05\n",
       "Date:                Tue, 23 Jan 2024   Prob (F-statistic):               0.00\n",
       "Time:                        00:20:01   Log-Likelihood:             1.6403e+05\n",
       "No. Observations:             1997066   AIC:                        -3.280e+05\n",
       "Df Residuals:                 1997040   BIC:                        -3.277e+05\n",
       "Df Model:                          25                                         \n",
       "Covariance Type:            nonrobust                                         \n",
       "====================================================================================\n",
       "                       coef    std err          t      P>|t|      [0.025      0.975]\n",
       "------------------------------------------------------------------------------------\n",
       "Intercept           -0.1774      0.112     -1.590      0.112      -0.396       0.041\n",
       "pitch_type[T.CH]    -0.1942      0.111     -1.743      0.081      -0.413       0.024\n",
       "pitch_type[T.CU]    -0.1564      0.111     -1.403      0.161      -0.375       0.062\n",
       "pitch_type[T.EP]    -0.1567      0.112     -1.401      0.161      -0.376       0.063\n",
       "pitch_type[T.FA]    -0.2480      0.137     -1.817      0.069      -0.516       0.020\n",
       "pitch_type[T.FC]    -0.1820      0.111     -1.633      0.103      -0.400       0.036\n",
       "pitch_type[T.FF]    -0.1646      0.111     -1.476      0.140      -0.383       0.054\n",
       "pitch_type[T.FO]    -0.1655      0.112     -1.479      0.139      -0.385       0.054\n",
       "pitch_type[T.FS]    -0.1771      0.111     -1.589      0.112      -0.396       0.041\n",
       "pitch_type[T.FT]    -0.1782      0.111     -1.599      0.110      -0.397       0.040\n",
       "pitch_type[T.IN]    -0.0519      0.112     -0.465      0.642      -0.270       0.167\n",
       "pitch_type[T.KC]    -0.1659      0.111     -1.488      0.137      -0.384       0.053\n",
       "pitch_type[T.KN]    -0.1677      0.111     -1.505      0.132      -0.386       0.051\n",
       "pitch_type[T.PO]    -0.1658      0.112     -1.481      0.139      -0.385       0.054\n",
       "pitch_type[T.SC]    -0.1396      0.114     -1.222      0.222      -0.363       0.084\n",
       "pitch_type[T.SI]    -0.1747      0.111     -1.567      0.117      -0.393       0.044\n",
       "pitch_type[T.SL]    -0.1633      0.111     -1.465      0.143      -0.382       0.055\n",
       "pitch_type[T.UN]    -0.0615      0.117     -0.526      0.599      -0.290       0.167\n",
       "pz                   0.0021      0.000     11.298      0.000       0.002       0.002\n",
       "start_speed          0.0021      0.000     11.287      0.000       0.002       0.003\n",
       "end_speed           -0.0012      0.000     -5.817      0.000      -0.002      -0.001\n",
       "break_angle      -4.602e-05   6.88e-06     -6.687      0.000   -5.95e-05   -3.25e-05\n",
       "break_length         0.0017      0.000     11.547      0.000       0.001       0.002\n",
       "b_count             -0.1159      0.000   -280.903      0.000      -0.117      -0.115\n",
       "s_count              0.3348      0.000    722.762      0.000       0.334       0.336\n",
       "pitch_num            0.1148      0.000    329.492      0.000       0.114       0.115\n",
       "==============================================================================\n",
       "Omnibus:                100777509.091   Durbin-Watson:                   1.997\n",
       "Prob(Omnibus):                  0.000   Jarque-Bera (JB):           302586.560\n",
       "Skew:                          -0.682   Prob(JB):                         0.00\n",
       "Kurtosis:                       1.668   Cond. No.                     3.63e+05\n",
       "==============================================================================\n",
       "\n",
       "Notes:\n",
       "[1] Standard Errors assume that the covariance matrix of the errors is correctly specified.\n",
       "[2] The condition number is large, 3.63e+05. This might indicate that there are\n",
       "strong multicollinearity or other numerical problems.\n",
       "\"\"\""
      ]
     },
     "execution_count": 30,
     "metadata": {},
     "output_type": "execute_result"
    }
   ],
   "source": [
    "reg = smf.ols('strikeout ~ pitch_type + pz + start_speed + end_speed + break_angle + break_length  + b_count + s_count + pitch_num', data = df_treino).fit()\n",
    "\n",
    "reg.summary()"
   ]
  },
  {
   "cell_type": "markdown",
   "id": "8043f967",
   "metadata": {
    "papermill": {
     "duration": 0.014324,
     "end_time": "2024-01-23T00:20:01.135232",
     "exception": false,
     "start_time": "2024-01-23T00:20:01.120908",
     "status": "completed"
    },
    "tags": []
   },
   "source": [
    "# Avaliando na base de Testes"
   ]
  },
  {
   "cell_type": "code",
   "execution_count": 31,
   "id": "2c5cf7dc",
   "metadata": {
    "execution": {
     "iopub.execute_input": "2024-01-23T00:20:01.166860Z",
     "iopub.status.busy": "2024-01-23T00:20:01.166531Z",
     "iopub.status.idle": "2024-01-23T00:20:02.682284Z",
     "shell.execute_reply": "2024-01-23T00:20:02.681610Z"
    },
    "papermill": {
     "duration": 1.535225,
     "end_time": "2024-01-23T00:20:02.685381",
     "exception": false,
     "start_time": "2024-01-23T00:20:01.150156",
     "status": "completed"
    },
    "tags": []
   },
   "outputs": [
    {
     "name": "stdout",
     "output_type": "stream",
     "text": [
      "R-quadrado ajustado: -4.93%\n"
     ]
    }
   ],
   "source": [
    "#avaliando na base de teste.\n",
    "\n",
    "y_pred = reg.predict(df_teste[['pz', 'start_speed', 'end_speed','break_angle', 'break_length',\n",
    "              'pitch_type', 'b_count', 's_count', 'pitch_num'\n",
    "]])\n",
    "\n",
    "r2_ajustado = r2_score(df_teste['strikeout'], y_pred)\n",
    "print(f'R-quadrado ajustado: {r2_ajustado:.2%}')"
   ]
  },
  {
   "cell_type": "markdown",
   "id": "7e3530d7",
   "metadata": {
    "papermill": {
     "duration": 0.01499,
     "end_time": "2024-01-23T00:20:02.718841",
     "exception": false,
     "start_time": "2024-01-23T00:20:02.703851",
     "status": "completed"
    },
    "tags": []
   },
   "source": [
    "# Conclusões\n",
    "\n",
    "-  O R2 foi bastante alto se aproximando de 80%, porém durante as tentativas ão foi possível melhorar, apesar disso conclui-se que é um modelo prditivo que está bom e ainda pode melhorar\n",
    "- Dito isto, somente foi utilizado uma parte do data-set original, então provavelemnte as outras partes do \"quebra-cabeças\" estão na parte que contém os rebatedores;\n",
    "- Apesar disso, as variáveis escolhidas apresenaram um a certa influência dentro do modelo, precisando apenas de mais ajuda de outras variáveis ou de outros tipos de mudanças dentro delas mesmas."
   ]
  },
  {
   "cell_type": "code",
   "execution_count": null,
   "id": "788a73ff",
   "metadata": {
    "papermill": {
     "duration": 0.014754,
     "end_time": "2024-01-23T00:20:02.748692",
     "exception": false,
     "start_time": "2024-01-23T00:20:02.733938",
     "status": "completed"
    },
    "tags": []
   },
   "outputs": [],
   "source": []
  }
 ],
 "metadata": {
  "kaggle": {
   "accelerator": "none",
   "dataSources": [
    {
     "datasetId": 90666,
     "sourceId": 1164824,
     "sourceType": "datasetVersion"
    }
   ],
   "dockerImageVersionId": 30635,
   "isGpuEnabled": false,
   "isInternetEnabled": true,
   "language": "python",
   "sourceType": "notebook"
  },
  "kernelspec": {
   "display_name": "Python 3",
   "language": "python",
   "name": "python3"
  },
  "language_info": {
   "codemirror_mode": {
    "name": "ipython",
    "version": 3
   },
   "file_extension": ".py",
   "mimetype": "text/x-python",
   "name": "python",
   "nbconvert_exporter": "python",
   "pygments_lexer": "ipython3",
   "version": "3.10.12"
  },
  "papermill": {
   "default_parameters": {},
   "duration": 64.029847,
   "end_time": "2024-01-23T00:20:03.383413",
   "environment_variables": {},
   "exception": null,
   "input_path": "__notebook__.ipynb",
   "output_path": "__notebook__.ipynb",
   "parameters": {},
   "start_time": "2024-01-23T00:18:59.353566",
   "version": "2.4.0"
  }
 },
 "nbformat": 4,
 "nbformat_minor": 5
}
